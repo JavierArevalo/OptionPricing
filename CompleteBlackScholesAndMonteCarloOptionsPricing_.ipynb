{
  "nbformat": 4,
  "nbformat_minor": 0,
  "metadata": {
    "colab": {
      "name": "CompleteBlackScholesAndMonteCarloOptionsPricing .ipynb",
      "provenance": [],
      "authorship_tag": "ABX9TyO4xBwzQpl0hxeKzsBN22dO",
      "include_colab_link": true
    },
    "kernelspec": {
      "name": "python3",
      "display_name": "Python 3"
    },
    "language_info": {
      "name": "python"
    }
  },
  "cells": [
    {
      "cell_type": "markdown",
      "metadata": {
        "id": "view-in-github",
        "colab_type": "text"
      },
      "source": [
        "<a href=\"https://colab.research.google.com/github/JavierArevalo/OptionPricing/blob/main/CompleteBlackScholesAndMonteCarloOptionsPricing_.ipynb\" target=\"_parent\"><img src=\"https://colab.research.google.com/assets/colab-badge.svg\" alt=\"Open In Colab\"/></a>"
      ]
    },
    {
      "cell_type": "markdown",
      "source": [
        "This file retreives the necessary options data and then compares two modeling prices and their weaknesses: Stock Scholes Options Pricing and Options Pricing via Monte Carlo Simulation "
      ],
      "metadata": {
        "id": "qZFu4s0g2JM2"
      }
    },
    {
      "cell_type": "markdown",
      "source": [
        "Scrape Python file that retrieves options data necessary for pricing "
      ],
      "metadata": {
        "id": "D32_iFM33_vp"
      }
    },
    {
      "cell_type": "code",
      "source": [
        "pip install yahoo_fin"
      ],
      "metadata": {
        "colab": {
          "base_uri": "https://localhost:8080/"
        },
        "id": "MwWXPfWB4QP3",
        "outputId": "b301cd3b-01cf-47a9-e213-ae94a3ea29c9"
      },
      "execution_count": null,
      "outputs": [
        {
          "output_type": "stream",
          "name": "stdout",
          "text": [
            "Collecting yahoo_fin\n",
            "  Downloading yahoo_fin-0.8.9.1-py3-none-any.whl (10 kB)\n",
            "Requirement already satisfied: requests in /usr/local/lib/python3.7/dist-packages (from yahoo_fin) (2.23.0)\n",
            "Collecting requests-html\n",
            "  Downloading requests_html-0.10.0-py3-none-any.whl (13 kB)\n",
            "Requirement already satisfied: pandas in /usr/local/lib/python3.7/dist-packages (from yahoo_fin) (1.3.5)\n",
            "Collecting feedparser\n",
            "  Downloading feedparser-6.0.8-py3-none-any.whl (81 kB)\n",
            "\u001b[K     |████████████████████████████████| 81 kB 5.2 MB/s \n",
            "\u001b[?25hCollecting sgmllib3k\n",
            "  Downloading sgmllib3k-1.0.0.tar.gz (5.8 kB)\n",
            "Requirement already satisfied: numpy>=1.17.3 in /usr/local/lib/python3.7/dist-packages (from pandas->yahoo_fin) (1.21.6)\n",
            "Requirement already satisfied: python-dateutil>=2.7.3 in /usr/local/lib/python3.7/dist-packages (from pandas->yahoo_fin) (2.8.2)\n",
            "Requirement already satisfied: pytz>=2017.3 in /usr/local/lib/python3.7/dist-packages (from pandas->yahoo_fin) (2022.1)\n",
            "Requirement already satisfied: six>=1.5 in /usr/local/lib/python3.7/dist-packages (from python-dateutil>=2.7.3->pandas->yahoo_fin) (1.15.0)\n",
            "Requirement already satisfied: chardet<4,>=3.0.2 in /usr/local/lib/python3.7/dist-packages (from requests->yahoo_fin) (3.0.4)\n",
            "Requirement already satisfied: certifi>=2017.4.17 in /usr/local/lib/python3.7/dist-packages (from requests->yahoo_fin) (2021.10.8)\n",
            "Requirement already satisfied: urllib3!=1.25.0,!=1.25.1,<1.26,>=1.21.1 in /usr/local/lib/python3.7/dist-packages (from requests->yahoo_fin) (1.24.3)\n",
            "Requirement already satisfied: idna<3,>=2.5 in /usr/local/lib/python3.7/dist-packages (from requests->yahoo_fin) (2.10)\n",
            "Collecting parse\n",
            "  Downloading parse-1.19.0.tar.gz (30 kB)\n",
            "Collecting fake-useragent\n",
            "  Downloading fake-useragent-0.1.11.tar.gz (13 kB)\n",
            "Collecting pyppeteer>=0.0.14\n",
            "  Downloading pyppeteer-1.0.2-py3-none-any.whl (83 kB)\n",
            "\u001b[K     |████████████████████████████████| 83 kB 2.2 MB/s \n",
            "\u001b[?25hRequirement already satisfied: bs4 in /usr/local/lib/python3.7/dist-packages (from requests-html->yahoo_fin) (0.0.1)\n",
            "Collecting w3lib\n",
            "  Downloading w3lib-1.22.0-py2.py3-none-any.whl (20 kB)\n",
            "Collecting pyquery\n",
            "  Downloading pyquery-1.4.3-py3-none-any.whl (22 kB)\n",
            "Collecting websockets<11.0,>=10.0\n",
            "  Downloading websockets-10.3-cp37-cp37m-manylinux_2_5_x86_64.manylinux1_x86_64.manylinux_2_12_x86_64.manylinux2010_x86_64.whl (112 kB)\n",
            "\u001b[K     |████████████████████████████████| 112 kB 42.3 MB/s \n",
            "\u001b[?25hRequirement already satisfied: importlib-metadata>=1.4 in /usr/local/lib/python3.7/dist-packages (from pyppeteer>=0.0.14->requests-html->yahoo_fin) (4.11.3)\n",
            "Requirement already satisfied: tqdm<5.0.0,>=4.42.1 in /usr/local/lib/python3.7/dist-packages (from pyppeteer>=0.0.14->requests-html->yahoo_fin) (4.64.0)\n",
            "Requirement already satisfied: appdirs<2.0.0,>=1.4.3 in /usr/local/lib/python3.7/dist-packages (from pyppeteer>=0.0.14->requests-html->yahoo_fin) (1.4.4)\n",
            "Collecting urllib3!=1.25.0,!=1.25.1,<1.26,>=1.21.1\n",
            "  Downloading urllib3-1.25.11-py2.py3-none-any.whl (127 kB)\n",
            "\u001b[K     |████████████████████████████████| 127 kB 56.5 MB/s \n",
            "\u001b[?25hCollecting pyee<9.0.0,>=8.1.0\n",
            "  Downloading pyee-8.2.2-py2.py3-none-any.whl (12 kB)\n",
            "Requirement already satisfied: zipp>=0.5 in /usr/local/lib/python3.7/dist-packages (from importlib-metadata>=1.4->pyppeteer>=0.0.14->requests-html->yahoo_fin) (3.8.0)\n",
            "Requirement already satisfied: typing-extensions>=3.6.4 in /usr/local/lib/python3.7/dist-packages (from importlib-metadata>=1.4->pyppeteer>=0.0.14->requests-html->yahoo_fin) (4.1.1)\n",
            "Requirement already satisfied: beautifulsoup4 in /usr/local/lib/python3.7/dist-packages (from bs4->requests-html->yahoo_fin) (4.6.3)\n",
            "Requirement already satisfied: lxml>=2.1 in /usr/local/lib/python3.7/dist-packages (from pyquery->requests-html->yahoo_fin) (4.2.6)\n",
            "Collecting cssselect>0.7.9\n",
            "  Downloading cssselect-1.1.0-py2.py3-none-any.whl (16 kB)\n",
            "Building wheels for collected packages: fake-useragent, parse, sgmllib3k\n",
            "  Building wheel for fake-useragent (setup.py) ... \u001b[?25l\u001b[?25hdone\n",
            "  Created wheel for fake-useragent: filename=fake_useragent-0.1.11-py3-none-any.whl size=13502 sha256=be3df75cbb87f3f08eba7c8254cc9ba6943cfaa4d5963c0d0252e19ddaaad750\n",
            "  Stored in directory: /root/.cache/pip/wheels/ed/f7/62/50ab6c9a0b5567267ab76a9daa9d06315704209b2c5d032031\n",
            "  Building wheel for parse (setup.py) ... \u001b[?25l\u001b[?25hdone\n",
            "  Created wheel for parse: filename=parse-1.19.0-py3-none-any.whl size=24591 sha256=54888ec8d3ea67ff919c8aeeb39f05685e2cf6c7b4865b53e21aed674b09ae11\n",
            "  Stored in directory: /root/.cache/pip/wheels/9c/aa/cc/f2228050ccb40f22144b073f15a2c84f11204f29fc0dce028e\n",
            "  Building wheel for sgmllib3k (setup.py) ... \u001b[?25l\u001b[?25hdone\n",
            "  Created wheel for sgmllib3k: filename=sgmllib3k-1.0.0-py3-none-any.whl size=6066 sha256=7ac044c6aa3eead49df03af9d6e78fd6fb67d5c793a56a52024b1616486ffefa\n",
            "  Stored in directory: /root/.cache/pip/wheels/73/ad/a4/0dff4a6ef231fc0dfa12ffbac2a36cebfdddfe059f50e019aa\n",
            "Successfully built fake-useragent parse sgmllib3k\n",
            "Installing collected packages: websockets, urllib3, pyee, cssselect, w3lib, sgmllib3k, pyquery, pyppeteer, parse, fake-useragent, requests-html, feedparser, yahoo-fin\n",
            "  Attempting uninstall: urllib3\n",
            "    Found existing installation: urllib3 1.24.3\n",
            "    Uninstalling urllib3-1.24.3:\n",
            "      Successfully uninstalled urllib3-1.24.3\n",
            "\u001b[31mERROR: pip's dependency resolver does not currently take into account all the packages that are installed. This behaviour is the source of the following dependency conflicts.\n",
            "datascience 0.10.6 requires folium==0.2.1, but you have folium 0.8.3 which is incompatible.\u001b[0m\n",
            "Successfully installed cssselect-1.1.0 fake-useragent-0.1.11 feedparser-6.0.8 parse-1.19.0 pyee-8.2.2 pyppeteer-1.0.2 pyquery-1.4.3 requests-html-0.10.0 sgmllib3k-1.0.0 urllib3-1.25.11 w3lib-1.22.0 websockets-10.3 yahoo-fin-0.8.9.1\n"
          ]
        }
      ]
    },
    {
      "cell_type": "code",
      "execution_count": 93,
      "metadata": {
        "id": "TnAO0akr2B4p"
      },
      "outputs": [],
      "source": [
        "from yahoo_fin import options\n",
        "from yahoo_fin import stock_info as si\n",
        "import pandas as pd\n",
        "\n",
        "class Option:\n",
        "    def __init__(self, ticker):\n",
        "\n",
        "        Option = options.get_options_chain(ticker)\n",
        "        dates = options.get_expiration_dates(ticker)\n",
        "        #print(Option)\n",
        "        #print(dates)\n",
        "        data = Option['calls']\n",
        "        df = pd.DataFrame.from_dict(data)\n",
        "\n",
        "        Option = df\n",
        "        \n",
        "\n",
        "        self.ticker = ticker\n",
        "        self.S = si.get_live_price(ticker)\n",
        "        self.K = Option.iloc[0][\"Strike\"]\n",
        "        self.R = Option.iloc[0][\"Open Interest\"]\n",
        "        self.V = Option.iloc[0][\"Implied Volatility\"]\n",
        "        self.B = Option.iloc[0][\"Bid\"]\n",
        "        self.A = Option.iloc[0][\"Ask\"]\n",
        "        self.T = dates[0]\n",
        "    \n",
        "    def getOptionsData(self, ticker=None):\n",
        "        if (ticker is None):\n",
        "            ticker = self.ticker \n",
        "        \n",
        "        dates = options.get_expiration_dates(ticker)\n",
        "        #OptionData = []\n",
        "        #for date in dates: \n",
        "          #option_data = options.get_calls(ticker, date)\n",
        "          #option_data.append(date)\n",
        "          #OptionData.append(option_data)\n",
        "        \n",
        "        optionData = options.get_options_chain(ticker)\n",
        "\n",
        "        return optionData, dates\n",
        "    def getDataForDate(self, ticker, date):\n",
        "      return options.get_calls(ticker, date)"
      ]
    },
    {
      "cell_type": "markdown",
      "source": [
        "Financial Data API Class:"
      ],
      "metadata": {
        "id": "--IAxHmB5P7k"
      }
    },
    {
      "cell_type": "code",
      "source": [
        "import requests \n",
        "import json \n",
        "import pandas as pd \n",
        "\n",
        "class FinancialDataAPI: \n",
        "\n",
        "  def __init__(self, ticker):\n",
        "    self.ticker = ticker \n",
        "    self.access_key = 'ef7d7d5ef00d2cc85d76913392c86b94'\n",
        "    self.baseRequestURL = 'https://api.marketstack.com/v1/tickers'\n",
        "    #don't forget to add url part of /eod after /'ticker\n",
        "  \n",
        "  def getPrices(self, ticker):\n",
        "    self.ticker = (str(ticker)).lower()\n",
        "    params = {\n",
        "        \"access_key\": self.access_key,\n",
        "    }\n",
        "    \n",
        "    completeURL = self.baseRequestURL + '/' + str(self.ticker) + '/eod'\n",
        "    api_result = requests.get(completeURL, params)\n",
        "    api_response = api_result.json()\n",
        "\n",
        "    print(\"API Response\")\n",
        "    print(api_response)\n",
        "    print(\"\")\n",
        "\n",
        "    processedPrices = self.processPrices(api_response)\n",
        "\n",
        "    #Turn from nested json into list of single json entries and then list to pandas dataframe\n",
        "    df = pd.DataFrame.from_dict(processedPrices)\n",
        "\n",
        "    print(\"Data Frame: \")\n",
        "    print(df)\n",
        "    print(\"\")\n",
        "\n",
        "    return df\n",
        "  \n",
        "  def getPriceForDay(self, ticker, date):\n",
        "    print(\"\")\n",
        "    print(\"Date\")\n",
        "    print(date)\n",
        "    print(\"\")\n",
        "    print(\"\")\n",
        "    #Date needs to be in YYYY-MM-DD format\n",
        "    self.ticker = (str(ticker)).lower()\n",
        "    params = {\n",
        "        \"access_key\": self.access_key,\n",
        "    }\n",
        "    completeURL = self.baseRequestURL + '/' + str(self.ticker) + '/eod/[' + str(date) + ']'\n",
        "    api_result = requests.get(completeURL, params)\n",
        "    api_response = api_result.json() \n",
        "\n",
        "    print(\"API Response\")\n",
        "    print(api_response)\n",
        "    print(\"\")\n",
        "\n",
        "    processedPrices = self.processPrices(api_response)\n",
        "\n",
        "    df = pd.DataFrame.from_dict(processedPrices)\n",
        "\n",
        "    print(\"\")\n",
        "    print(df)\n",
        "    print(\"\")\n",
        "\n",
        "    return df \n",
        "  \n",
        "  def processPrices(self, priceData):\n",
        "\n",
        "    data = priceData['data']\n",
        "    name = data['name']\n",
        "    ticker = data['symbol']\n",
        "    prices = data['eod']\n",
        "\n",
        "    listPrices = []\n",
        "    for idx, row in enumerate(prices):\n",
        "      dictCur = {}\n",
        "      date = row['date']\n",
        "      price = row['close']\n",
        "      high = row['high']\n",
        "      low = row['low']\n",
        "      volume = row['volume']\n",
        "\n",
        "      dictCur['Date'] = str(date)\n",
        "      dictCur['Close'] = price \n",
        "      dictCur['Volume'] = volume \n",
        "      dictCur['High'] = high \n",
        "      dictCur['Low'] = low\n",
        "      \n",
        "      listPrices.append(dictCur)\n",
        "    return listPrices"
      ],
      "metadata": {
        "id": "auICOu0O5S5a"
      },
      "execution_count": 94,
      "outputs": []
    },
    {
      "cell_type": "markdown",
      "source": [
        "Black Scholes Formula for Non Dividend Paying Stock:\n",
        "\n",
        "\n",
        "\n",
        "Formula for put and call is as follows:\n",
        "\n",
        "Call = S0* N* (d1) - N(d2)* K* e^(-rT)\n",
        "\n",
        "Put = N(-d2) * K * e^(-rT) - N(-d1)* S0\n",
        "\n",
        "where \n",
        "\n",
        "d1 = (ln(S/K) + T *(r + (o^2)/2)) / (o* sqrt(T)\n",
        "\n",
        "d2 = d1 - o* sqrt(T)\n",
        "\n",
        "where:\n",
        "\n",
        "S: current asset/stock price\n",
        "\n",
        "K: strike price of the option \n",
        "\n",
        "r: risk free rate \n",
        "\n",
        "T: time until option experation \n",
        "\n",
        "o: annualized volatility of the asset's returns \n",
        "\n",
        "N(x): the cumulative distribution function for a standard distribution\n",
        "\n",
        "\n"
      ],
      "metadata": {
        "id": "3jIpmVGA4aDI"
      }
    },
    {
      "cell_type": "code",
      "source": [
        "import numpy as np \n",
        "from scipy.stats import norm \n",
        "\n",
        "N = norm.cdf \n",
        "\n",
        "def BS_CALL(S, K, T, r, sigma):\n",
        "  d1 = (np.log(S/K) + (r + sigma**2/2)*T) / (sigma*np.sqrt(T))\n",
        "  d2 = d1 - sigma * np.sqrt(T)\n",
        "  return S * N(d1) - K * np.exp(-r*T) * N(d2)\n",
        "\n",
        "def BS_PUT(S, K, T, r, sigma):\n",
        "  d1 = (np.log(S/K) + (r + sigma**2/2)* T) / (sigma * np.sqrt(T))\n",
        "  d2 = d1 - sigma* np.sqrt(T)\n",
        "  return K*np.exp(-r*T)*N(-d2) - S*N(-d1)"
      ],
      "metadata": {
        "id": "lx2U6yNE4hQw"
      },
      "execution_count": 95,
      "outputs": []
    },
    {
      "cell_type": "markdown",
      "source": [
        "*Analyzing Effects of different factors on Option Value *"
      ],
      "metadata": {
        "id": "6t2ywYlW4lk5"
      }
    },
    {
      "cell_type": "markdown",
      "source": [
        "S Effect on Option Value:\n",
        "\n",
        "-Here will hold constant all the variables except the current stock price S and examine how the value of calls and puts change accordingly "
      ],
      "metadata": {
        "id": "5MeTbAFl4s7_"
      }
    },
    {
      "cell_type": "code",
      "source": [
        "import matplotlib.pyplot as plt\n",
        "\n",
        "K = 100\n",
        "r = 0.1\n",
        "T = 1\n",
        "sigma = 0.3\n",
        "\n",
        "S = np.arange(60, 140, 0.1)\n",
        "\n",
        "calls = [BS_CALL(s, K, T, r, sigma) for s in S]\n",
        "puts = [BS_PUT(s, K, T, r, sigma) for s in S]\n",
        "\n",
        "#Plot the values and compare \n",
        "plt.plot(S, calls, label='Call Value')\n",
        "plt.plot(S, puts, label='Put Value')\n",
        "plt.xlabel('$S_0$')\n",
        "plt.ylabel(' Value')\n",
        "plt.legend"
      ],
      "metadata": {
        "colab": {
          "base_uri": "https://localhost:8080/",
          "height": 301
        },
        "id": "ti04bcUZ41_a",
        "outputId": "7f87a71a-94b0-4b4f-f59e-ab758606fe39"
      },
      "execution_count": 96,
      "outputs": [
        {
          "output_type": "execute_result",
          "data": {
            "text/plain": [
              "<function matplotlib.pyplot.legend>"
            ]
          },
          "metadata": {},
          "execution_count": 96
        },
        {
          "output_type": "display_data",
          "data": {
            "text/plain": [
              "<Figure size 432x288 with 1 Axes>"
            ],
            "image/png": "[encoded data removed]"
          },
          "metadata": {
            "needs_background": "light"
          }
        }
      ]
    },
    {
      "cell_type": "markdown",
      "source": [
        "Sigma Effect on Black Scholes Value \n",
        "\n",
        "When we hold all other variables constant, and increase the volatility parameter, both calls and puts increase in value. \n",
        "\n",
        "Tend to increase in a linear fashion too. \n",
        "\n",
        "\n",
        "To understand why the calls value seems to be strictly greater than the put with respect to volatility, change interest rate r to 0 and notice that the curves coincide exactly. \n",
        "\n",
        "Rather than making plots for effects on interest rate, can deduce that an increase in interest rates increases the value of calls and decreases the value of puts. "
      ],
      "metadata": {
        "id": "_X111-dC45ms"
      }
    },
    {
      "cell_type": "code",
      "source": [
        "K = 100\n",
        "r = 0.1\n",
        "T = 1 \n",
        "Sigmas = np.arange(0.1, 1.5, 0.01)\n",
        "S = 100\n",
        "\n",
        "calls = [BS_CALL(S, K, T, r, sig) for sig in Sigmas]\n",
        "puts = [BS_PUT(S, K, T, r, sig) for sig in Sigmas]\n",
        "\n",
        "plt.plot(Sigmas, calls, label = 'Call Value')\n",
        "plt.plot(Sigmas, puts, label = 'Put Value')\n",
        "plt.xlabel('$\\sigma$')\n",
        "plt.ylabel(' Value')\n",
        "plt.legend()\n"
      ],
      "metadata": {
        "colab": {
          "base_uri": "https://localhost:8080/",
          "height": 297
        },
        "id": "y93-ip0N49jB",
        "outputId": "b83a0f4c-612a-4d97-adde-b3bb9c390c93"
      },
      "execution_count": 97,
      "outputs": [
        {
          "output_type": "execute_result",
          "data": {
            "text/plain": [
              "<matplotlib.legend.Legend at 0x7f9995c6aa50>"
            ]
          },
          "metadata": {},
          "execution_count": 97
        },
        {
          "output_type": "display_data",
          "data": {
            "text/plain": [
              "<Figure size 432x288 with 1 Axes>"
            ],
            "image/png": "[encoded data removed]"
          },
          "metadata": {
            "needs_background": "light"
          }
        }
      ]
    },
    {
      "cell_type": "markdown",
      "source": [
        "Effect of Time on Black Scholes Price\n",
        "\n",
        "\n",
        "As we increase time we increase the uncertainty regarding the future price. \n",
        "\n",
        "KEY: Uncertainty is to the options holder benefit (why?)\n",
        "\n",
        "As a result the price of the option increases with time. \n",
        "\n",
        "\n",
        "Again we can see that when the interest rate is 0 we observe that the difference between puts and calls is eliminated. \n"
      ],
      "metadata": {
        "id": "xRtT9rqt5Jje"
      }
    },
    {
      "cell_type": "code",
      "source": [
        "K = 100\n",
        "r = 0.05\n",
        "T = np.arange(0, 2, 0.01)\n",
        "sigma = 0.3\n",
        "S = 100\n",
        "\n",
        "calls = [BS_CALL(S, K, t, r, sigma) for t in T]\n",
        "puts = [BS_PUT(S, K, t, r, sigma) for t in T]\n",
        "plt.plot(T, calls, label = 'Call Value')\n",
        "plt.plot(T, puts, label = 'Put Value')\n",
        "plt.xlabel('$T$ in years')\n",
        "plt.ylabel('Value')\n",
        "plt.legend()"
      ],
      "metadata": {
        "colab": {
          "base_uri": "https://localhost:8080/",
          "height": 372
        },
        "id": "xeB3lV9P5Gn9",
        "outputId": "9dc2b529-e3db-4102-8419-194a225a3714"
      },
      "execution_count": 98,
      "outputs": [
        {
          "output_type": "stream",
          "name": "stderr",
          "text": [
            "/usr/local/lib/python3.7/dist-packages/ipykernel_launcher.py:7: RuntimeWarning: invalid value encountered in double_scalars\n",
            "  import sys\n",
            "/usr/local/lib/python3.7/dist-packages/ipykernel_launcher.py:12: RuntimeWarning: invalid value encountered in double_scalars\n",
            "  if sys.path[0] == '':\n"
          ]
        },
        {
          "output_type": "execute_result",
          "data": {
            "text/plain": [
              "<matplotlib.legend.Legend at 0x7f9995f78e90>"
            ]
          },
          "metadata": {},
          "execution_count": 98
        },
        {
          "output_type": "display_data",
          "data": {
            "text/plain": [
              "<Figure size 432x288 with 1 Axes>"
            ],
            "image/png": "[encoded data removed]"
          },
          "metadata": {
            "needs_background": "light"
          }
        }
      ]
    },
    {
      "cell_type": "markdown",
      "source": [
        "**Limitations of Black Scholes: **"
      ],
      "metadata": {
        "id": "if8b6dYU5Zym"
      }
    },
    {
      "cell_type": "markdown",
      "source": [
        "Main Problem with Black Scholes \n",
        "\n",
        "Script below calculates the rolling standard deviaton for APPLE over approximately 10 years. \n",
        "\n",
        "\n",
        "Notice that the volatility is in no way stable which is why implied volatility is so handy. \n",
        "\n",
        "\n",
        "If we take the standard deviation over the entire sample it is approximately 0.28. However, can notice that in early-mid 2020 there is a large spike. \n",
        "\n",
        "\n",
        "As mentioned before, Black Scholes model assumes this paramter is constant when in fact it is not further reinforcing the imporatance of using implied volatility. \n"
      ],
      "metadata": {
        "id": "X9Sa2bI85eea"
      }
    },
    {
      "cell_type": "code",
      "source": [
        "import pandas_datareader.data as web \n",
        "import pandas as pd \n",
        "import datetime as dt \n",
        "import numpy as np \n",
        "import matplotlib.pyplot as plt \n",
        "#import FinancialDataAPI as financialAPI\n",
        "\n",
        "\n",
        "\n",
        "start = dt.datetime(2010, 1, 1)\n",
        "end = dt.datetime(2020, 10, 1)\n",
        "\n",
        "start = pd.to_datetime(['2010-01-01']).astype(int)[0]//10**9 # convert to unix timestamp.\n",
        "end = pd.to_datetime(['2020-10-01']).astype(int)[0]//10**9 # convert to unix timestamp.\n",
        "\n",
        "\n",
        "symbol = 'AAPL'\n",
        "source = 'yahoo'\n",
        "\n",
        "_financialAPI = FinancialDataAPI(symbol)\n",
        "\n",
        "data = _financialAPI.getPrices(symbol)\n",
        "\n",
        "data['change'] = data['Close'].pct_change()\n",
        "data['rolling_sigma'] = data['change'].rolling(20).std() * np.sqrt(225)\n",
        "\n",
        "data.rolling_sigma.plot()\n",
        "plt.ylabel('$\\sigma$')\n",
        "plt.title('AAPL Rolling Volatility ')"
      ],
      "metadata": {
        "colab": {
          "base_uri": "https://localhost:8080/",
          "height": 729
        },
        "id": "mJyDvqfj5hlB",
        "outputId": "b134ba31-63f8-4856-b28b-7efc581aa8c0"
      },
      "execution_count": 99,
      "outputs": [
        {
          "output_type": "stream",
          "name": "stderr",
          "text": [
            "/usr/local/lib/python3.7/dist-packages/ipykernel_launcher.py:13: FutureWarning: casting datetime64[ns] values to int64 with .astype(...) is deprecated and will raise in a future version. Use .view(...) instead.\n",
            "  del sys.path[0]\n",
            "/usr/local/lib/python3.7/dist-packages/ipykernel_launcher.py:14: FutureWarning: casting datetime64[ns] values to int64 with .astype(...) is deprecated and will raise in a future version. Use .view(...) instead.\n",
            "  \n"
          ]
        },
        {
          "output_type": "stream",
          "name": "stdout",
          "text": [
            "API Response\n",
            "{'pagination': {'limit': 100, 'offset': 0, 'count': 100, 'total': 2516}, 'data': {'name': 'Apple Inc', 'symbol': 'AAPL', 'country': None, 'has_intraday': False, 'has_eod': True, 'eod': [{'open': 163.92, 'high': 166.6, 'low': 163.57, 'close': 165.07, 'volume': 68896600.0, 'adj_high': None, 'adj_low': None, 'adj_close': 165.07, 'adj_open': None, 'adj_volume': None, 'split_factor': 1.0, 'dividend': 0.0, 'symbol': 'AAPL', 'exchange': 'XNAS', 'date': '2022-04-18T00:00:00+0000'}, {'open': 170.62, 'high': 171.27, 'low': 165.04, 'close': 165.29, 'volume': 75237500.0, 'adj_high': None, 'adj_low': None, 'adj_close': 165.29, 'adj_open': None, 'adj_volume': None, 'split_factor': 1.0, 'dividend': 0.0, 'symbol': 'AAPL', 'exchange': 'XNAS', 'date': '2022-04-14T00:00:00+0000'}, {'open': 167.39, 'high': 171.04, 'low': 166.77, 'close': 170.4, 'volume': 70551700.0, 'adj_high': None, 'adj_low': None, 'adj_close': 170.4, 'adj_open': None, 'adj_volume': None, 'split_factor': 1.0, 'dividend': 0.0, 'symbol': 'AAPL', 'exchange': 'XNAS', 'date': '2022-04-13T00:00:00+0000'}, {'open': 168.02, 'high': 169.87, 'low': 166.64, 'close': 167.66, 'volume': 79183600.0, 'adj_high': None, 'adj_low': None, 'adj_close': 167.66, 'adj_open': None, 'adj_volume': None, 'split_factor': 1.0, 'dividend': 0.0, 'symbol': 'AAPL', 'exchange': 'XNAS', 'date': '2022-04-12T00:00:00+0000'}, {'open': 168.71, 'high': 169.03, 'low': 165.5, 'close': 165.75, 'volume': 72088900.0, 'adj_high': None, 'adj_low': None, 'adj_close': 165.75, 'adj_open': None, 'adj_volume': None, 'split_factor': 1.0, 'dividend': 0.0, 'symbol': 'AAPL', 'exchange': 'XNAS', 'date': '2022-04-11T00:00:00+0000'}, {'open': 171.78, 'high': 171.78, 'low': 169.2, 'close': 170.09, 'volume': 76515900.0, 'adj_high': None, 'adj_low': None, 'adj_close': 170.09, 'adj_open': None, 'adj_volume': None, 'split_factor': 1.0, 'dividend': 0.0, 'symbol': 'AAPL', 'exchange': 'XNAS', 'date': '2022-04-08T00:00:00+0000'}, {'open': 171.16, 'high': 173.36, 'low': 169.85, 'close': 172.14, 'volume': 77517700.0, 'adj_high': None, 'adj_low': None, 'adj_close': 172.14, 'adj_open': None, 'adj_volume': None, 'split_factor': 1.0, 'dividend': 0.0, 'symbol': 'AAPL', 'exchange': 'XNAS', 'date': '2022-04-07T00:00:00+0000'}, {'open': 172.36, 'high': 173.63, 'low': 170.13, 'close': 171.83, 'volume': 88950300.0, 'adj_high': None, 'adj_low': None, 'adj_close': 171.83, 'adj_open': None, 'adj_volume': None, 'split_factor': 1.0, 'dividend': 0.0, 'symbol': 'AAPL', 'exchange': 'XNAS', 'date': '2022-04-06T00:00:00+0000'}, {'open': 177.5, 'high': 178.3, 'low': 174.42, 'close': 175.06, 'volume': 73311300.0, 'adj_high': None, 'adj_low': None, 'adj_close': 175.06, 'adj_open': None, 'adj_volume': None, 'split_factor': 1.0, 'dividend': 0.0, 'symbol': 'AAPL', 'exchange': 'XNAS', 'date': '2022-04-05T00:00:00+0000'}, {'open': 174.57, 'high': 178.49, 'low': 174.44, 'close': 178.44, 'volume': 76468400.0, 'adj_high': None, 'adj_low': None, 'adj_close': 178.44, 'adj_open': None, 'adj_volume': None, 'split_factor': 1.0, 'dividend': 0.0, 'symbol': 'AAPL', 'exchange': 'XNAS', 'date': '2022-04-04T00:00:00+0000'}, {'open': 174.03, 'high': 174.88, 'low': 171.94, 'close': 174.31, 'volume': 78699800.0, 'adj_high': None, 'adj_low': None, 'adj_close': 174.31, 'adj_open': None, 'adj_volume': None, 'split_factor': 1.0, 'dividend': 0.0, 'symbol': 'AAPL', 'exchange': 'XNAS', 'date': '2022-04-01T00:00:00+0000'}, {'open': 177.84, 'high': 178.03, 'low': 174.4, 'close': 174.61, 'volume': 102939400.0, 'adj_high': None, 'adj_low': None, 'adj_close': 174.61, 'adj_open': None, 'adj_volume': None, 'split_factor': 1.0, 'dividend': 0.0, 'symbol': 'AAPL', 'exchange': 'XNAS', 'date': '2022-03-31T00:00:00+0000'}, {'open': 178.55, 'high': 179.61, 'low': 176.7, 'close': 177.77, 'volume': 92633154.0, 'adj_high': None, 'adj_low': None, 'adj_close': 177.77, 'adj_open': None, 'adj_volume': None, 'split_factor': 1.0, 'dividend': 0.0, 'symbol': 'AAPL', 'exchange': 'XNAS', 'date': '2022-03-30T00:00:00+0000'}, {'open': 176.69, 'high': 179.01, 'low': 176.34, 'close': 178.96, 'volume': 100495100.0, 'adj_high': None, 'adj_low': None, 'adj_close': 178.96, 'adj_open': None, 'adj_volume': None, 'split_factor': 1.0, 'dividend': 0.0, 'symbol': 'AAPL', 'exchange': 'XNAS', 'date': '2022-03-29T00:00:00+0000'}, {'open': 172.17, 'high': 175.73, 'low': 172.0, 'close': 175.6, 'volume': 90263900.0, 'adj_high': None, 'adj_low': None, 'adj_close': 175.6, 'adj_open': None, 'adj_volume': None, 'split_factor': 1.0, 'dividend': 0.0, 'symbol': 'AAPL', 'exchange': 'XNAS', 'date': '2022-03-28T00:00:00+0000'}, {'open': 173.88, 'high': 175.28, 'low': 172.75, 'close': 174.72, 'volume': 80470700.0, 'adj_high': None, 'adj_low': None, 'adj_close': 174.72, 'adj_open': None, 'adj_volume': None, 'split_factor': 1.0, 'dividend': 0.0, 'symbol': 'AAPL', 'exchange': 'XNAS', 'date': '2022-03-25T00:00:00+0000'}, {'open': 171.06, 'high': 174.14, 'low': 170.21, 'close': 174.07, 'volume': 90131418.0, 'adj_high': None, 'adj_low': None, 'adj_close': 174.07, 'adj_open': None, 'adj_volume': None, 'split_factor': 1.0, 'dividend': 0.0, 'symbol': 'AAPL', 'exchange': 'XNAS', 'date': '2022-03-24T00:00:00+0000'}, {'open': 167.99, 'high': 172.64, 'low': 167.65, 'close': 170.21, 'volume': 97965700.0, 'adj_high': None, 'adj_low': None, 'adj_close': 170.21, 'adj_open': None, 'adj_volume': None, 'split_factor': 1.0, 'dividend': 0.0, 'symbol': 'AAPL', 'exchange': 'XNAS', 'date': '2022-03-23T00:00:00+0000'}, {'open': 165.51, 'high': 169.42, 'low': 164.91, 'close': 168.82, 'volume': 81468400.0, 'adj_high': None, 'adj_low': None, 'adj_close': 168.82, 'adj_open': None, 'adj_volume': None, 'split_factor': 1.0, 'dividend': 0.0, 'symbol': 'AAPL', 'exchange': 'XNAS', 'date': '2022-03-22T00:00:00+0000'}, {'open': 163.51, 'high': 166.35, 'low': 163.01, 'close': 165.38, 'volume': 95722200.0, 'adj_high': None, 'adj_low': None, 'adj_close': 165.38, 'adj_open': None, 'adj_volume': None, 'split_factor': 1.0, 'dividend': 0.0, 'symbol': 'AAPL', 'exchange': 'XNAS', 'date': '2022-03-21T00:00:00+0000'}, {'open': 160.51, 'high': 164.48, 'low': 159.76, 'close': 163.98, 'volume': 123351200.0, 'adj_high': None, 'adj_low': None, 'adj_close': 163.98, 'adj_open': None, 'adj_volume': None, 'split_factor': 1.0, 'dividend': 0.0, 'symbol': 'AAPL', 'exchange': 'XNAS', 'date': '2022-03-18T00:00:00+0000'}, {'open': 158.61, 'high': 161.0, 'low': 157.63, 'close': 160.62, 'volume': 75522800.0, 'adj_high': None, 'adj_low': None, 'adj_close': 160.62, 'adj_open': None, 'adj_volume': None, 'split_factor': 1.0, 'dividend': 0.0, 'symbol': 'AAPL', 'exchange': 'XNAS', 'date': '2022-03-17T00:00:00+0000'}, {'open': 157.05, 'high': 160.0, 'low': 154.46, 'close': 159.59, 'volume': 101965749.0, 'adj_high': None, 'adj_low': None, 'adj_close': 159.59, 'adj_open': None, 'adj_volume': None, 'split_factor': 1.0, 'dividend': 0.0, 'symbol': 'AAPL', 'exchange': 'XNAS', 'date': '2022-03-16T00:00:00+0000'}, {'open': 150.9, 'high': 155.57, 'low': 150.38, 'close': 155.09, 'volume': 92850700.0, 'adj_high': None, 'adj_low': None, 'adj_close': 155.09, 'adj_open': None, 'adj_volume': None, 'split_factor': 1.0, 'dividend': 0.0, 'symbol': 'AAPL', 'exchange': 'XNAS', 'date': '2022-03-15T00:00:00+0000'}, {'open': 151.45, 'high': 154.12, 'low': 150.1, 'close': 150.62, 'volume': 108732111.0, 'adj_high': None, 'adj_low': None, 'adj_close': 150.62, 'adj_open': None, 'adj_volume': None, 'split_factor': 1.0, 'dividend': 0.0, 'symbol': 'AAPL', 'exchange': 'XNAS', 'date': '2022-03-14T00:00:00+0000'}, {'open': 158.93, 'high': 159.28, 'low': 154.5, 'close': 154.73, 'volume': 96836300.0, 'adj_high': None, 'adj_low': None, 'adj_close': 154.73, 'adj_open': None, 'adj_volume': None, 'split_factor': 1.0, 'dividend': 0.0, 'symbol': 'AAPL', 'exchange': 'XNAS', 'date': '2022-03-11T00:00:00+0000'}, {'open': 160.2, 'high': 160.39, 'low': 155.98, 'close': 158.52, 'volume': 96831210.0, 'adj_high': None, 'adj_low': None, 'adj_close': 158.52, 'adj_open': None, 'adj_volume': None, 'split_factor': 1.0, 'dividend': 0.0, 'symbol': 'AAPL', 'exchange': 'XNAS', 'date': '2022-03-10T00:00:00+0000'}, {'open': 161.475, 'high': 163.41, 'low': 159.41, 'close': 162.95, 'volume': 91454905.0, 'adj_high': None, 'adj_low': None, 'adj_close': 162.95, 'adj_open': None, 'adj_volume': None, 'split_factor': 1.0, 'dividend': 0.0, 'symbol': 'AAPL', 'exchange': 'XNAS', 'date': '2022-03-09T00:00:00+0000'}, {'open': 158.82, 'high': 162.88, 'low': 155.8, 'close': 157.44, 'volume': 131148280.0, 'adj_high': None, 'adj_low': None, 'adj_close': 157.44, 'adj_open': None, 'adj_volume': None, 'split_factor': 1.0, 'dividend': 0.0, 'symbol': 'AAPL', 'exchange': 'XNAS', 'date': '2022-03-08T00:00:00+0000'}, {'open': 163.36, 'high': 165.02, 'low': 159.04, 'close': 159.3, 'volume': 96056156.0, 'adj_high': None, 'adj_low': None, 'adj_close': 159.3, 'adj_open': None, 'adj_volume': None, 'split_factor': 1.0, 'dividend': 0.0, 'symbol': 'AAPL', 'exchange': 'XNAS', 'date': '2022-03-07T00:00:00+0000'}, {'open': 164.49, 'high': 165.55, 'low': 162.1, 'close': 163.17, 'volume': 83737200.0, 'adj_high': None, 'adj_low': None, 'adj_close': 163.17, 'adj_open': None, 'adj_volume': None, 'split_factor': 1.0, 'dividend': 0.0, 'symbol': 'AAPL', 'exchange': 'XNAS', 'date': '2022-03-04T00:00:00+0000'}, {'open': 168.47, 'high': 168.91, 'low': 165.55, 'close': 166.23, 'volume': 73081544.0, 'adj_high': None, 'adj_low': None, 'adj_close': 166.23, 'adj_open': None, 'adj_volume': None, 'split_factor': 1.0, 'dividend': 0.0, 'symbol': 'AAPL', 'exchange': 'XNAS', 'date': '2022-03-03T00:00:00+0000'}, {'open': 164.39, 'high': 167.35, 'low': 162.95, 'close': 166.56, 'volume': 79724750.0, 'adj_high': None, 'adj_low': None, 'adj_close': 166.56, 'adj_open': None, 'adj_volume': None, 'split_factor': 1.0, 'dividend': 0.0, 'symbol': 'AAPL', 'exchange': 'XNAS', 'date': '2022-03-02T00:00:00+0000'}, {'open': 164.7, 'high': 166.6, 'low': 161.97, 'close': 163.2, 'volume': 83361500.0, 'adj_high': None, 'adj_low': None, 'adj_close': 163.2, 'adj_open': None, 'adj_volume': None, 'split_factor': 1.0, 'dividend': 0.0, 'symbol': 'AAPL', 'exchange': 'XNAS', 'date': '2022-03-01T00:00:00+0000'}, {'open': 163.06, 'high': 165.418, 'low': 162.43, 'close': 165.12, 'volume': 95056629.0, 'adj_high': None, 'adj_low': None, 'adj_close': 165.12, 'adj_open': None, 'adj_volume': None, 'split_factor': 1.0, 'dividend': 0.0, 'symbol': 'AAPL', 'exchange': 'XNAS', 'date': '2022-02-28T00:00:00+0000'}, {'open': 163.84, 'high': 165.12, 'low': 160.87, 'close': 164.85, 'volume': 91881700.0, 'adj_high': None, 'adj_low': None, 'adj_close': 164.85, 'adj_open': None, 'adj_volume': None, 'split_factor': 1.0, 'dividend': 0.0, 'symbol': 'AAPL', 'exchange': 'XNAS', 'date': '2022-02-25T00:00:00+0000'}, {'open': 152.58, 'high': 162.85, 'low': 152.0, 'close': 162.74, 'volume': 141147540.0, 'adj_high': None, 'adj_low': None, 'adj_close': 162.74, 'adj_open': None, 'adj_volume': None, 'split_factor': 1.0, 'dividend': 0.0, 'symbol': 'AAPL', 'exchange': 'XNAS', 'date': '2022-02-24T00:00:00+0000'}, {'open': 165.54, 'high': 166.15, 'low': 159.75, 'close': 160.07, 'volume': 89511200.0, 'adj_high': None, 'adj_low': None, 'adj_close': 160.07, 'adj_open': None, 'adj_volume': None, 'split_factor': 1.0, 'dividend': 0.0, 'symbol': 'AAPL', 'exchange': 'XNAS', 'date': '2022-02-23T00:00:00+0000'}, {'open': 164.98, 'high': 166.69, 'low': 162.15, 'close': 164.32, 'volume': 91004600.0, 'adj_high': None, 'adj_low': None, 'adj_close': 164.32, 'adj_open': None, 'adj_volume': None, 'split_factor': 1.0, 'dividend': 0.0, 'symbol': 'AAPL', 'exchange': 'XNAS', 'date': '2022-02-22T00:00:00+0000'}, {'open': 169.82, 'high': 170.54, 'low': 166.19, 'close': 167.3, 'volume': 82614200.0, 'adj_high': None, 'adj_low': None, 'adj_close': 167.3, 'adj_open': None, 'adj_volume': None, 'split_factor': 1.0, 'dividend': 0.0, 'symbol': 'AAPL', 'exchange': 'XNAS', 'date': '2022-02-18T00:00:00+0000'}, {'open': 171.03, 'high': 171.91, 'low': 168.47, 'close': 168.88, 'volume': 66502618.0, 'adj_high': None, 'adj_low': None, 'adj_close': 168.88, 'adj_open': None, 'adj_volume': None, 'split_factor': 1.0, 'dividend': 0.0, 'symbol': 'AAPL', 'exchange': 'XNAS', 'date': '2022-02-17T00:00:00+0000'}, {'open': 171.85, 'high': 173.34, 'low': 170.05, 'close': 172.55, 'volume': 61067300.0, 'adj_high': None, 'adj_low': None, 'adj_close': 172.55, 'adj_open': None, 'adj_volume': None, 'split_factor': 1.0, 'dividend': 0.0, 'symbol': 'AAPL', 'exchange': 'XNAS', 'date': '2022-02-16T00:00:00+0000'}, {'open': 170.97, 'high': 172.95, 'low': 170.25, 'close': 172.79, 'volume': 62512704.0, 'adj_high': None, 'adj_low': None, 'adj_close': 172.79, 'adj_open': None, 'adj_volume': None, 'split_factor': 1.0, 'dividend': 0.0, 'symbol': 'AAPL', 'exchange': 'XNAS', 'date': '2022-02-15T00:00:00+0000'}, {'open': 167.37, 'high': 169.58, 'low': 166.56, 'close': 168.88, 'volume': 86062800.0, 'adj_high': None, 'adj_low': None, 'adj_close': 168.88, 'adj_open': None, 'adj_volume': None, 'split_factor': 1.0, 'dividend': 0.0, 'symbol': 'AAPL', 'exchange': 'XNAS', 'date': '2022-02-14T00:00:00+0000'}, {'open': 172.33, 'high': 173.08, 'low': 168.04, 'close': 168.64, 'volume': 98566000.0, 'adj_high': None, 'adj_low': None, 'adj_close': 168.64, 'adj_open': None, 'adj_volume': None, 'split_factor': 1.0, 'dividend': 0.0, 'symbol': 'AAPL', 'exchange': 'XNAS', 'date': '2022-02-11T00:00:00+0000'}, {'open': 174.14, 'high': 175.48, 'low': 171.55, 'close': 172.12, 'volume': 88014963.0, 'adj_high': None, 'adj_low': None, 'adj_close': 172.12, 'adj_open': None, 'adj_volume': None, 'split_factor': 1.0, 'dividend': 0.0, 'symbol': 'AAPL', 'exchange': 'XNAS', 'date': '2022-02-10T00:00:00+0000'}, {'open': 176.05, 'high': 176.65, 'low': 174.9, 'close': 176.28, 'volume': 70195600.0, 'adj_high': None, 'adj_low': None, 'adj_close': 176.28, 'adj_open': None, 'adj_volume': None, 'split_factor': 1.0, 'dividend': 0.0, 'symbol': 'AAPL', 'exchange': 'XNAS', 'date': '2022-02-09T00:00:00+0000'}, {'open': 171.73, 'high': 175.35, 'low': 171.43, 'close': 174.83, 'volume': 73516656.0, 'adj_high': None, 'adj_low': None, 'adj_close': 174.83, 'adj_open': None, 'adj_volume': None, 'split_factor': 1.0, 'dividend': 0.0, 'symbol': 'AAPL', 'exchange': 'XNAS', 'date': '2022-02-08T00:00:00+0000'}, {'open': 172.86, 'high': 173.95, 'low': 170.95, 'close': 171.66, 'volume': 77045100.0, 'adj_high': None, 'adj_low': None, 'adj_close': 171.66, 'adj_open': None, 'adj_volume': None, 'split_factor': 1.0, 'dividend': 0.0, 'symbol': 'AAPL', 'exchange': 'XNAS', 'date': '2022-02-07T00:00:00+0000'}, {'open': 171.68, 'high': 174.1, 'low': 170.68, 'close': 172.39, 'volume': 82391400.0, 'adj_high': None, 'adj_low': None, 'adj_close': 172.39, 'adj_open': None, 'adj_volume': None, 'split_factor': 1.0, 'dividend': 0.0, 'symbol': 'AAPL', 'exchange': 'XNAS', 'date': '2022-02-04T00:00:00+0000'}, {'open': 174.48, 'high': 176.2399, 'low': 172.12, 'close': 172.9, 'volume': 87114127.0, 'adj_high': None, 'adj_low': None, 'adj_close': 172.9, 'adj_open': None, 'adj_volume': None, 'split_factor': 1.0, 'dividend': 0.0, 'symbol': 'AAPL', 'exchange': 'XNAS', 'date': '2022-02-03T00:00:00+0000'}, {'open': 174.75, 'high': 175.88, 'low': 173.33, 'close': 175.84, 'volume': 79172100.0, 'adj_high': None, 'adj_low': None, 'adj_close': 175.84, 'adj_open': None, 'adj_volume': None, 'split_factor': 1.0, 'dividend': 0.0, 'symbol': 'AAPL', 'exchange': 'XNAS', 'date': '2022-02-02T00:00:00+0000'}, {'open': 174.01, 'high': 174.82, 'low': 172.32, 'close': 174.61, 'volume': 82889520.0, 'adj_high': None, 'adj_low': None, 'adj_close': 174.61, 'adj_open': None, 'adj_volume': None, 'split_factor': 1.0, 'dividend': 0.0, 'symbol': 'AAPL', 'exchange': 'XNAS', 'date': '2022-02-01T00:00:00+0000'}, {'open': 170.16, 'high': 175.0, 'low': 169.51, 'close': 174.78, 'volume': 115541590.0, 'adj_high': None, 'adj_low': None, 'adj_close': 174.78, 'adj_open': None, 'adj_volume': None, 'split_factor': 1.0, 'dividend': 0.0, 'symbol': 'AAPL', 'exchange': 'XNAS', 'date': '2022-01-31T00:00:00+0000'}, {'open': 165.71, 'high': 170.35, 'low': 162.8, 'close': 170.33, 'volume': 179485800.0, 'adj_high': None, 'adj_low': None, 'adj_close': 170.33, 'adj_open': None, 'adj_volume': None, 'split_factor': 1.0, 'dividend': 0.0, 'symbol': 'AAPL', 'exchange': 'XNAS', 'date': '2022-01-28T00:00:00+0000'}, {'open': 162.45, 'high': 163.84, 'low': 158.28, 'close': 159.22, 'volume': 108825865.0, 'adj_high': None, 'adj_low': None, 'adj_close': 159.22, 'adj_open': None, 'adj_volume': None, 'split_factor': 1.0, 'dividend': 0.0, 'symbol': 'AAPL', 'exchange': 'XNAS', 'date': '2022-01-27T00:00:00+0000'}, {'open': 163.5, 'high': 164.3894, 'low': 157.82, 'close': 159.69, 'volume': 107707884.0, 'adj_high': None, 'adj_low': None, 'adj_close': 159.69, 'adj_open': None, 'adj_volume': None, 'split_factor': 1.0, 'dividend': 0.0, 'symbol': 'AAPL', 'exchange': 'XNAS', 'date': '2022-01-26T00:00:00+0000'}, {'open': 158.98, 'high': 162.76, 'low': 157.02, 'close': 159.78, 'volume': 114972000.0, 'adj_high': None, 'adj_low': None, 'adj_close': 159.78, 'adj_open': None, 'adj_volume': None, 'split_factor': 1.0, 'dividend': 0.0, 'symbol': 'AAPL', 'exchange': 'XNAS', 'date': '2022-01-25T00:00:00+0000'}, {'open': 160.02, 'high': 162.3, 'low': 154.7, 'close': 161.62, 'volume': 162241960.0, 'adj_high': None, 'adj_low': None, 'adj_close': 161.62, 'adj_open': None, 'adj_volume': None, 'split_factor': 1.0, 'dividend': 0.0, 'symbol': 'AAPL', 'exchange': 'XNAS', 'date': '2022-01-24T00:00:00+0000'}, {'open': 164.42, 'high': 166.33, 'low': 162.3, 'close': 162.41, 'volume': 122501300.0, 'adj_high': None, 'adj_low': None, 'adj_close': 162.41, 'adj_open': None, 'adj_volume': None, 'split_factor': 1.0, 'dividend': 0.0, 'symbol': 'AAPL', 'exchange': 'XNAS', 'date': '2022-01-21T00:00:00+0000'}, {'open': 166.98, 'high': 169.64, 'low': 164.23, 'close': 164.51, 'volume': 90211048.0, 'adj_high': None, 'adj_low': None, 'adj_close': 164.51, 'adj_open': None, 'adj_volume': None, 'split_factor': 1.0, 'dividend': 0.0, 'symbol': 'AAPL', 'exchange': 'XNAS', 'date': '2022-01-20T00:00:00+0000'}, {'open': 170.0, 'high': 171.08, 'low': 165.94, 'close': 166.23, 'volume': 94473863.0, 'adj_high': None, 'adj_low': None, 'adj_close': 166.23, 'adj_open': None, 'adj_volume': None, 'split_factor': 1.0, 'dividend': 0.0, 'symbol': 'AAPL', 'exchange': 'XNAS', 'date': '2022-01-19T00:00:00+0000'}, {'open': 171.51, 'high': 172.53, 'low': 169.41, 'close': 169.8, 'volume': 85540485.0, 'adj_high': None, 'adj_low': None, 'adj_close': 169.8, 'adj_open': None, 'adj_volume': None, 'split_factor': 1.0, 'dividend': 0.0, 'symbol': 'AAPL', 'exchange': 'XNAS', 'date': '2022-01-18T00:00:00+0000'}, {'open': 171.34, 'high': 173.78, 'low': 171.09, 'close': 173.07, 'volume': 80355000.0, 'adj_high': None, 'adj_low': None, 'adj_close': 173.07, 'adj_open': None, 'adj_volume': None, 'split_factor': 1.0, 'dividend': 0.0, 'symbol': 'AAPL', 'exchange': 'XNAS', 'date': '2022-01-14T00:00:00+0000'}, {'open': 175.78, 'high': 176.62, 'low': 171.79, 'close': 172.19, 'volume': 81572060.0, 'adj_high': None, 'adj_low': None, 'adj_close': 172.19, 'adj_open': None, 'adj_volume': None, 'split_factor': 1.0, 'dividend': 0.0, 'symbol': 'AAPL', 'exchange': 'XNAS', 'date': '2022-01-13T00:00:00+0000'}, {'open': 176.12, 'high': 177.179, 'low': 174.821, 'close': 175.53, 'volume': 70577429.0, 'adj_high': None, 'adj_low': None, 'adj_close': 175.53, 'adj_open': None, 'adj_volume': None, 'split_factor': 1.0, 'dividend': 0.0, 'symbol': 'AAPL', 'exchange': 'XNAS', 'date': '2022-01-12T00:00:00+0000'}, {'open': 172.32, 'high': 175.18, 'low': 170.82, 'close': 175.08, 'volume': 76015600.0, 'adj_high': None, 'adj_low': None, 'adj_close': 175.08, 'adj_open': None, 'adj_volume': None, 'split_factor': 1.0, 'dividend': 0.0, 'symbol': 'AAPL', 'exchange': 'XNAS', 'date': '2022-01-11T00:00:00+0000'}, {'open': 169.08, 'high': 172.5, 'low': 168.17, 'close': 172.19, 'volume': 106606900.0, 'adj_high': None, 'adj_low': None, 'adj_close': 172.19, 'adj_open': None, 'adj_volume': None, 'split_factor': 1.0, 'dividend': 0.0, 'symbol': 'AAPL', 'exchange': 'XNAS', 'date': '2022-01-10T00:00:00+0000'}, {'open': 172.89, 'high': 174.14, 'low': 171.03, 'close': 172.17, 'volume': 86580100.0, 'adj_high': None, 'adj_low': None, 'adj_close': 172.17, 'adj_open': None, 'adj_volume': None, 'split_factor': 1.0, 'dividend': 0.0, 'symbol': 'AAPL', 'exchange': 'XNAS', 'date': '2022-01-07T00:00:00+0000'}, {'open': 172.7, 'high': 175.3, 'low': 171.64, 'close': 172.0, 'volume': 96751000.0, 'adj_high': None, 'adj_low': None, 'adj_close': 172.0, 'adj_open': None, 'adj_volume': None, 'split_factor': 1.0, 'dividend': 0.0, 'symbol': 'AAPL', 'exchange': 'XNAS', 'date': '2022-01-06T00:00:00+0000'}, {'open': 179.61, 'high': 180.17, 'low': 174.64, 'close': 174.92, 'volume': 94218700.0, 'adj_high': None, 'adj_low': None, 'adj_close': 174.92, 'adj_open': None, 'adj_volume': None, 'split_factor': 1.0, 'dividend': 0.0, 'symbol': 'AAPL', 'exchange': 'XNAS', 'date': '2022-01-05T00:00:00+0000'}, {'open': 182.63, 'high': 182.9, 'low': 179.12, 'close': 179.7, 'volume': 99310448.0, 'adj_high': None, 'adj_low': None, 'adj_close': 179.7, 'adj_open': None, 'adj_volume': None, 'split_factor': 1.0, 'dividend': 0.0, 'symbol': 'AAPL', 'exchange': 'XNAS', 'date': '2022-01-04T00:00:00+0000'}, {'open': 177.83, 'high': 182.88, 'low': 177.71, 'close': 182.01, 'volume': 104487900.0, 'adj_high': None, 'adj_low': None, 'adj_close': 182.01, 'adj_open': None, 'adj_volume': None, 'split_factor': 1.0, 'dividend': 0.0, 'symbol': 'AAPL', 'exchange': 'XNAS', 'date': '2022-01-03T00:00:00+0000'}, {'open': 178.085, 'high': 179.23, 'low': 177.26, 'close': 177.57, 'volume': 64062262.0, 'adj_high': None, 'adj_low': None, 'adj_close': 177.57, 'adj_open': None, 'adj_volume': None, 'split_factor': 1.0, 'dividend': 0.0, 'symbol': 'AAPL', 'exchange': 'XNAS', 'date': '2021-12-31T00:00:00+0000'}, {'open': 179.47, 'high': 180.57, 'low': 178.09, 'close': 178.2, 'volume': 59619100.0, 'adj_high': None, 'adj_low': None, 'adj_close': 178.2, 'adj_open': None, 'adj_volume': None, 'split_factor': 1.0, 'dividend': 0.0, 'symbol': 'AAPL', 'exchange': 'XNAS', 'date': '2021-12-30T00:00:00+0000'}, {'open': 179.33, 'high': 180.63, 'low': 178.14, 'close': 179.38, 'volume': 62231200.0, 'adj_high': None, 'adj_low': None, 'adj_close': 179.38, 'adj_open': None, 'adj_volume': None, 'split_factor': 1.0, 'dividend': 0.0, 'symbol': 'AAPL', 'exchange': 'XNAS', 'date': '2021-12-29T00:00:00+0000'}, {'open': 180.16, 'high': 181.33, 'low': 178.53, 'close': 179.29, 'volume': 76421728.0, 'adj_high': None, 'adj_low': None, 'adj_close': 179.29, 'adj_open': None, 'adj_volume': None, 'split_factor': 1.0, 'dividend': 0.0, 'symbol': 'AAPL', 'exchange': 'XNAS', 'date': '2021-12-28T00:00:00+0000'}, {'open': 177.085, 'high': 180.42, 'low': 177.07, 'close': 180.33, 'volume': 73006629.0, 'adj_high': None, 'adj_low': None, 'adj_close': 180.33, 'adj_open': None, 'adj_volume': None, 'split_factor': 1.0, 'dividend': 0.0, 'symbol': 'AAPL', 'exchange': 'XNAS', 'date': '2021-12-27T00:00:00+0000'}, {'open': 175.85, 'high': 176.85, 'low': 175.27, 'close': 176.28, 'volume': 68227500.0, 'adj_high': None, 'adj_low': None, 'adj_close': 176.28, 'adj_open': None, 'adj_volume': None, 'split_factor': 1.0, 'dividend': 0.0, 'symbol': 'AAPL', 'exchange': 'XNAS', 'date': '2021-12-23T00:00:00+0000'}, {'open': 173.04, 'high': 175.86, 'low': 172.15, 'close': 175.64, 'volume': 92004100.0, 'adj_high': None, 'adj_low': None, 'adj_close': 175.64, 'adj_open': None, 'adj_volume': None, 'split_factor': 1.0, 'dividend': 0.0, 'symbol': 'AAPL', 'exchange': 'XNAS', 'date': '2021-12-22T00:00:00+0000'}, {'open': 171.56, 'high': 173.2, 'low': 169.12, 'close': 172.99, 'volume': 85845000.0, 'adj_high': None, 'adj_low': None, 'adj_close': 172.99, 'adj_open': None, 'adj_volume': None, 'split_factor': 1.0, 'dividend': 0.0, 'symbol': 'AAPL', 'exchange': 'XNAS', 'date': '2021-12-21T00:00:00+0000'}, {'open': 168.28, 'high': 170.58, 'low': 167.46, 'close': 169.75, 'volume': 107313400.0, 'adj_high': None, 'adj_low': None, 'adj_close': 169.75, 'adj_open': None, 'adj_volume': None, 'split_factor': 1.0, 'dividend': 0.0, 'symbol': 'AAPL', 'exchange': 'XNAS', 'date': '2021-12-20T00:00:00+0000'}, {'open': 169.93, 'high': 173.47, 'low': 169.69, 'close': 171.14, 'volume': 195432700.0, 'adj_high': None, 'adj_low': None, 'adj_close': 171.14, 'adj_open': None, 'adj_volume': None, 'split_factor': 1.0, 'dividend': 0.0, 'symbol': 'AAPL', 'exchange': 'XNAS', 'date': '2021-12-17T00:00:00+0000'}, {'open': 179.28, 'high': 181.14, 'low': 170.75, 'close': 172.26, 'volume': 149964200.0, 'adj_high': None, 'adj_low': None, 'adj_close': 172.26, 'adj_open': None, 'adj_volume': None, 'split_factor': 1.0, 'dividend': 0.0, 'symbol': 'AAPL', 'exchange': 'XNAS', 'date': '2021-12-16T00:00:00+0000'}, {'open': 175.11, 'high': 179.5, 'low': 172.31, 'close': 179.3, 'volume': 130687600.0, 'adj_high': None, 'adj_low': None, 'adj_close': 179.3, 'adj_open': None, 'adj_volume': None, 'split_factor': 1.0, 'dividend': 0.0, 'symbol': 'AAPL', 'exchange': 'XNAS', 'date': '2021-12-15T00:00:00+0000'}, {'open': 175.25, 'high': 177.74, 'low': 172.21, 'close': 174.33, 'volume': 139285700.0, 'adj_high': None, 'adj_low': None, 'adj_close': 174.33, 'adj_open': None, 'adj_volume': None, 'split_factor': 1.0, 'dividend': 0.0, 'symbol': 'AAPL', 'exchange': 'XNAS', 'date': '2021-12-14T00:00:00+0000'}, {'open': 181.115, 'high': 182.09, 'low': 175.53, 'close': 175.74, 'volume': 151103753.0, 'adj_high': None, 'adj_low': None, 'adj_close': 175.74, 'adj_open': None, 'adj_volume': None, 'split_factor': 1.0, 'dividend': 0.0, 'symbol': 'AAPL', 'exchange': 'XNAS', 'date': '2021-12-13T00:00:00+0000'}, {'open': 175.205, 'high': 179.63, 'low': 174.69, 'close': 179.45, 'volume': 110986702.0, 'adj_high': None, 'adj_low': None, 'adj_close': 179.45, 'adj_open': None, 'adj_volume': None, 'split_factor': 1.0, 'dividend': 0.0, 'symbol': 'AAPL', 'exchange': 'XNAS', 'date': '2021-12-10T00:00:00+0000'}, {'open': 174.91, 'high': 176.75, 'low': 173.92, 'close': 174.56, 'volume': 107976382.0, 'adj_high': None, 'adj_low': None, 'adj_close': 174.56, 'adj_open': None, 'adj_volume': None, 'split_factor': 1.0, 'dividend': 0.0, 'symbol': 'AAPL', 'exchange': 'XNAS', 'date': '2021-12-09T00:00:00+0000'}, {'open': 172.125, 'high': 175.95, 'low': 170.7, 'close': 175.08, 'volume': 116998851.0, 'adj_high': None, 'adj_low': None, 'adj_close': 175.08, 'adj_open': None, 'adj_volume': None, 'split_factor': 1.0, 'dividend': 0.0, 'symbol': 'AAPL', 'exchange': 'XNAS', 'date': '2021-12-08T00:00:00+0000'}, {'open': 169.08, 'high': 171.58, 'low': 168.34, 'close': 171.18, 'volume': 117482381.0, 'adj_high': None, 'adj_low': None, 'adj_close': 171.18, 'adj_open': None, 'adj_volume': None, 'split_factor': 1.0, 'dividend': 0.0, 'symbol': 'AAPL', 'exchange': 'XNAS', 'date': '2021-12-07T00:00:00+0000'}, {'open': 164.29, 'high': 167.8799, 'low': 164.28, 'close': 165.32, 'volume': 107496982.0, 'adj_high': None, 'adj_low': None, 'adj_close': 165.32, 'adj_open': None, 'adj_volume': None, 'split_factor': 1.0, 'dividend': 0.0, 'symbol': 'AAPL', 'exchange': 'XNAS', 'date': '2021-12-06T00:00:00+0000'}, {'open': 164.02, 'high': 164.96, 'low': 159.72, 'close': 161.84, 'volume': 117938300.0, 'adj_high': None, 'adj_low': None, 'adj_close': 161.84, 'adj_open': None, 'adj_volume': None, 'split_factor': 1.0, 'dividend': 0.0, 'symbol': 'AAPL', 'exchange': 'XNAS', 'date': '2021-12-03T00:00:00+0000'}, {'open': 158.74, 'high': 164.2, 'low': 157.8, 'close': 163.76, 'volume': 136474900.0, 'adj_high': None, 'adj_low': None, 'adj_close': 163.76, 'adj_open': None, 'adj_volume': None, 'split_factor': 1.0, 'dividend': 0.0, 'symbol': 'AAPL', 'exchange': 'XNAS', 'date': '2021-12-02T00:00:00+0000'}, {'open': 167.48, 'high': 170.295, 'low': 164.53, 'close': 164.77, 'volume': 145135682.0, 'adj_high': None, 'adj_low': None, 'adj_close': 164.77, 'adj_open': None, 'adj_volume': None, 'split_factor': 1.0, 'dividend': 0.0, 'symbol': 'AAPL', 'exchange': 'XNAS', 'date': '2021-12-01T00:00:00+0000'}, {'open': 159.99, 'high': 165.52, 'low': 159.92, 'close': 165.3, 'volume': 173758500.0, 'adj_high': None, 'adj_low': None, 'adj_close': 165.3, 'adj_open': None, 'adj_volume': None, 'split_factor': 1.0, 'dividend': 0.0, 'symbol': 'AAPL', 'exchange': 'XNAS', 'date': '2021-11-30T00:00:00+0000'}, {'open': 159.37, 'high': 161.19, 'low': 158.7901, 'close': 160.24, 'volume': 88748217.0, 'adj_high': None, 'adj_low': None, 'adj_close': 160.24, 'adj_open': None, 'adj_volume': None, 'split_factor': 1.0, 'dividend': 0.0, 'symbol': 'AAPL', 'exchange': 'XNAS', 'date': '2021-11-29T00:00:00+0000'}, {'open': 159.57, 'high': 160.45, 'low': 156.36, 'close': 156.81, 'volume': 76959800.0, 'adj_high': None, 'adj_low': None, 'adj_close': 156.81, 'adj_open': None, 'adj_volume': None, 'split_factor': 1.0, 'dividend': 0.0, 'symbol': 'AAPL', 'exchange': 'XNAS', 'date': '2021-11-26T00:00:00+0000'}, {'open': 160.75, 'high': 162.14, 'low': 159.64, 'close': 161.94, 'volume': 69342151.0, 'adj_high': None, 'adj_low': None, 'adj_close': 161.94, 'adj_open': None, 'adj_volume': None, 'split_factor': 1.0, 'dividend': 0.0, 'symbol': 'AAPL', 'exchange': 'XNAS', 'date': '2021-11-24T00:00:00+0000'}, {'open': 161.12, 'high': 161.8, 'low': 159.07, 'close': 161.41, 'volume': 96041899.0, 'adj_high': None, 'adj_low': None, 'adj_close': 161.41, 'adj_open': None, 'adj_volume': None, 'split_factor': 1.0, 'dividend': 0.0, 'symbol': 'AAPL', 'exchange': 'XNAS', 'date': '2021-11-23T00:00:00+0000'}]}}\n",
            "\n",
            "Data Frame: \n",
            "                        Date   Close       Volume    High       Low\n",
            "0   2022-04-18T00:00:00+0000  165.07   68896600.0  166.60  163.5700\n",
            "1   2022-04-14T00:00:00+0000  165.29   75237500.0  171.27  165.0400\n",
            "2   2022-04-13T00:00:00+0000  170.40   70551700.0  171.04  166.7700\n",
            "3   2022-04-12T00:00:00+0000  167.66   79183600.0  169.87  166.6400\n",
            "4   2022-04-11T00:00:00+0000  165.75   72088900.0  169.03  165.5000\n",
            "..                       ...     ...          ...     ...       ...\n",
            "95  2021-11-30T00:00:00+0000  165.30  173758500.0  165.52  159.9200\n",
            "96  2021-11-29T00:00:00+0000  160.24   88748217.0  161.19  158.7901\n",
            "97  2021-11-26T00:00:00+0000  156.81   76959800.0  160.45  156.3600\n",
            "98  2021-11-24T00:00:00+0000  161.94   69342151.0  162.14  159.6400\n",
            "99  2021-11-23T00:00:00+0000  161.41   96041899.0  161.80  159.0700\n",
            "\n",
            "[100 rows x 5 columns]\n",
            "\n"
          ]
        },
        {
          "output_type": "execute_result",
          "data": {
            "text/plain": [
              "Text(0.5, 1.0, 'AAPL Rolling Volatility ')"
            ]
          },
          "metadata": {},
          "execution_count": 99
        },
        {
          "output_type": "display_data",
          "data": {
            "text/plain": [
              "<Figure size 432x288 with 1 Axes>"
            ],
            "image/png": "[encoded data removed]"
          },
          "metadata": {
            "needs_background": "light"
          }
        }
      ]
    },
    {
      "cell_type": "markdown",
      "source": [
        "Another key problem is that the model underestimates the tail density:\n",
        "\n",
        "The KDE plot below shows the emprical versus a normal distribution for Apple stock. This means that Black Scholes will underestimate the value of out-of-the-money options."
      ],
      "metadata": {
        "id": "SXgZAZsI55o2"
      }
    },
    {
      "cell_type": "code",
      "source": [
        "std = data.change.std()\n",
        "Ndraws = 1000\n",
        "WT = np.random.normal(data.change.mean(), std, size=Ndraws)\n",
        "\n",
        "plt.hist(np.exp(WT)-1, bins = 300, color = 'red', alpha = 0.4);\n",
        "plt.hist(data.change, bins = 200, color = 'black', alpha = 0.4);\n",
        "plt.xlim([-0.03, 0.03])\n",
        "\n",
        "import seaborn as sns \n",
        "\n",
        "fix, ax = plt.subplots()\n",
        "ax = sns.kdeplot(data=data['change'].dropna(), label='Empirical', ax=ax, shade=True)\n",
        "ax = sns.kdeplot(data=WT, label = 'Log Normal', ax=ax, shade=True)\n",
        "plt.xlim([-0.15, 0.15])\n",
        "plt.ylim([-1, 40])\n",
        "plt.xlabel('return')\n",
        "plt.ylabel('Density')"
      ],
      "metadata": {
        "colab": {
          "base_uri": "https://localhost:8080/",
          "height": 549
        },
        "id": "WyU-dQIK570n",
        "outputId": "d2a4a37f-c111-434a-95f6-b65be8420cf3"
      },
      "execution_count": 100,
      "outputs": [
        {
          "output_type": "execute_result",
          "data": {
            "text/plain": [
              "Text(0, 0.5, 'Density')"
            ]
          },
          "metadata": {},
          "execution_count": 100
        },
        {
          "output_type": "display_data",
          "data": {
            "text/plain": [
              "<Figure size 432x288 with 1 Axes>"
            ],
            "image/png": "[encoded data removed]"
          },
          "metadata": {
            "needs_background": "light"
          }
        },
        {
          "output_type": "display_data",
          "data": {
            "text/plain": [
              "<Figure size 432x288 with 1 Axes>"
            ],
            "image/png": "[encoded data removed]"
          },
          "metadata": {
            "needs_background": "light"
          }
        }
      ]
    },
    {
      "cell_type": "markdown",
      "source": [
        "Black Scholes for Dividend Paying Stock\n",
        "\n",
        "\n",
        "Can easily modify the non-dividend formula described above to include a dividend. \n",
        "\n",
        "Note that the dividend denoted as q below is a continously compounded dividend. \n",
        "\n",
        "This means that the actual dividend rate is irrelevant to the pricing formula. This is not ideal and could result in large errors for stocks which pays large dividends. \n",
        "\n",
        "Call and put modified equations are as follows:\n",
        "\n",
        "\n",
        "Call = S0 * e^(-qT) * N(d1) - N(d2) * K * e^(-rT)\n",
        "\n",
        "Put = N(-d2) * K * e^(-rT) - N(-d1) * S0 * e^(-qT) \n",
        "\n",
        "where d1 and d2 are as follows:\n",
        "\n",
        "d1 = (ln(S/K) + (r - q + (o^2)/2)) / (o * sqrt(T)) \n",
        "\n",
        "d2 = d1 - o * sqrt(T) "
      ],
      "metadata": {
        "id": "L30v69RY6Aa9"
      }
    },
    {
      "cell_type": "code",
      "source": [
        "def BS_CALLDIV(S, K, T, r, q, sigma):\n",
        "  d1 = (np.log(S/K) + (r - q + sigma**2/2)*T) / (sigma*np.sqrt(T))\n",
        "  d2 = d1 - sigma * np.sqrt(T)\n",
        "  return S*np.exp(-q*T) * N(d1) - K * np.exp(-r*T) * N(d2)\n",
        "\n",
        "def BS_PUTDIV(S, K, T, r, q, sigma):\n",
        "  d1 = (np.log(S/K) + (r - q + sigma**2/2)* T) / (sigma*np.sqrt(T))\n",
        "  d2 = d1 - sigma * np.sqrt(T)\n",
        "  return K * np.exp(-r*T)*N(-d2) - S*np.exp(-q*T) * N(-d1)\n",
        "  "
      ],
      "metadata": {
        "id": "UEseO4tl6D50"
      },
      "execution_count": 101,
      "outputs": []
    },
    {
      "cell_type": "markdown",
      "source": [
        "Concise Object Oriented Implementation"
      ],
      "metadata": {
        "id": "FOf8NI8q6GyH"
      }
    },
    {
      "cell_type": "code",
      "source": [
        "from scipy.stats import norm \n",
        "\n",
        "class BsOption:\n",
        "  def __init__(self, S, K, T, r, sigma, q=0):\n",
        "    self.S = S\n",
        "    self.K = K\n",
        "    self.T = T\n",
        "    self.r = r \n",
        "    self.sigma = sigma \n",
        "    self.q = q \n",
        "  \n",
        "  @staticmethod \n",
        "  def N(x):\n",
        "    return norm.cdf(x)\n",
        "  \n",
        "  @property\n",
        "  def params(self):\n",
        "    return {'S': self.S, \n",
        "            'K': self.K, \n",
        "            'T': self.T, \n",
        "            'r': self.r, \n",
        "            'q': self.q, \n",
        "            'sigma': self.sigma}\n",
        "  \n",
        "  def d1(self):\n",
        "    return (np.log(self.S/self.K) + (self.r - self.q + self.sigma**2/2)*self.T) / (self.sigma*np.sqrt(self.T))\n",
        "\n",
        "  def d2(self):\n",
        "    return self.d1() - self.sigma*np.sqrt(self.T)\n",
        "  \n",
        "  def _call_value(self):\n",
        "    return self.S * np.exp(-self.q*self.T) * self.N(self.d1()) - self.K * np.exp(-self.r*self.T) * self.N(self.d2())\n",
        "  \n",
        "  def _put_value(self):\n",
        "    return self.K*np.exp(-self.r*self.T) * self.N(-self.d2()) - self.S * np.exp(-self.q*self.T) * self.N(-self.d1())\n",
        "\n",
        "  def price(self, type_ = 'C'):\n",
        "    if type_ == 'C':\n",
        "      return self._call_value()\n",
        "    if type_ == 'P':\n",
        "      return self._put_value()\n",
        "    if type_ == 'B':\n",
        "      return {'call': self._call_value(), 'put': self._put_value()}\n",
        "    else:\n",
        "      #raise ValueError('Unrecognized type')\n",
        "      return None\n",
        "\n",
        "\n",
        "\n",
        "if __name__ == '__main__':\n",
        "  K = 100\n",
        "  r = 0.1\n",
        "  T = 1\n",
        "  sigma = 0.3\n",
        "  S = 100\n",
        "  print(BsOption(S, K, T, r, sigma).price('B'))"
      ],
      "metadata": {
        "id": "46up0EQQ6Ifu",
        "colab": {
          "base_uri": "https://localhost:8080/"
        },
        "outputId": "b83280a0-d84f-4eb4-bb58-e981c6558145"
      },
      "execution_count": 102,
      "outputs": [
        {
          "output_type": "stream",
          "name": "stdout",
          "text": [
            "{'call': 16.73413358238666, 'put': 7.217875385982609}\n"
          ]
        }
      ]
    },
    {
      "cell_type": "markdown",
      "source": [
        "\n"
      ],
      "metadata": {
        "id": "SV9BlQyD6Lb0"
      }
    },
    {
      "cell_type": "markdown",
      "source": [
        "\n"
      ],
      "metadata": {
        "id": "G9pJ4dUi6L7n"
      }
    },
    {
      "cell_type": "markdown",
      "source": [
        "Now Simulate the Option prices using the factors data (Strike Price, Asset Price, Volatility (use implied volatility, interest rate, time to expiry) to calculate the option price using Black Scholes "
      ],
      "metadata": {
        "id": "GF2neeD46MlP"
      }
    },
    {
      "cell_type": "code",
      "source": [
        "#Get Data for ticker AAPL \n",
        "from datetime import datetime\n",
        "from datetime import timedelta\n",
        "\n",
        "from yahoo_fin import stock_info as si \n",
        "\n",
        "ticker = \"NFLX\"\n",
        "\n",
        "_scraper = Option(str(ticker))\n",
        "_financialAPI = FinancialDataAPI(ticker)\n",
        "\n",
        "optionsData, dates = _scraper.getOptionsData(ticker)\n",
        "print(\"Options Data\")\n",
        "print(optionsData)\n",
        "print(\"\")\n",
        "print(\"\")\n",
        "print(\"Dates\")\n",
        "print(dates)\n",
        "print(len(dates))\n",
        "\n",
        "date = dates[2]\n",
        "_dataForDate = _scraper.getDataForDate(ticker, date)\n",
        "print(\"\")\n",
        "print(\"\")\n",
        "print(\"Data For Date: \" + str(date) + \" is: \")\n",
        "print(_dataForDate)\n",
        "\n",
        "#Calculate difference between ask and between bid \n",
        "\n",
        "#Options for Netflix \n",
        "BidDiff = 0\n",
        "AskDiff = 0\n",
        "for date in dates: \n",
        "  optionData = _scraper.getDataForDate(ticker, date)\n",
        "  for index, row in optionData.iterrows():\n",
        "    #Calculate black scholes price \n",
        "    bid = row['Bid']\n",
        "    ask = row['Ask']\n",
        "    Date = str(row['Last Trade Date'])\n",
        "    Date = Date[0:10]\n",
        "    #datetime = datetime.strptime(Date, 'YYYY-MM-DD')\n",
        "    #datetime = datetime(Date)\n",
        "    #dateCF = datetime.isoformat()\n",
        "    #print(\"Date\")\n",
        "    #print(Date)\n",
        "    #print(\"\")\n",
        "    split = date.split()\n",
        "    month = datetime.strptime(split[0], \"%B\").month\n",
        "    day_number = split[1].split(',')\n",
        "    day_number = day_number[0]\n",
        "    year = split[2]\n",
        "    first = datetime.datetime(year=int(year), month=month, day=int(day_number))\n",
        "    #date = datetime.strptime(date, '%MMMM %d, %Y')\n",
        "    #print(date)\n",
        "    datetime = datetime.strptime(Date, '%Y-%m-%d')\n",
        "    datetimeOG = datetime\n",
        "    #datetime = datetime + datetime.timedelta(days=2)\n",
        "    datetime += timedelta(days=1)\n",
        "    #print(datetime)\n",
        "    assetPrice = si.get_data(ticker, start_date = Date, end_date = datetime)['close']\n",
        "    print(assetPrice)\n",
        "    #assetPrice = _financialAPI.getPriceForDay(ticker, dateCF)\n",
        "    \n",
        "    \n",
        "    S = row['Strike']\n",
        "    K = assetPrice\n",
        "    timeDiff = first -  datetimeOG\n",
        "    T = (timeDiff.days + timeDiff.seconds/86400)/365.2425\n",
        "\n",
        "    r = row['Open Interest']\n",
        "    sigma = str(row['Implied Volatility'])[:-1]\n",
        "    sigma = float(sigma)/100\n",
        "    #BS_CALL(S, K, T, r, sigma):\n",
        "\n",
        "    blackScholesPrice = BS_CALL(float(S), float(K), float(T), float(r), float(sigma))\n",
        "    BidDiff = BidDiff + abs(blackScholesPrice - bid)\n",
        "    AskDiff = AskDiff + abs(blackScholesPrice - ask)\n",
        "\n"
      ],
      "metadata": {
        "id": "a0_9L1bb6Xwl",
        "colab": {
          "base_uri": "https://localhost:8080/",
          "height": 1000
        },
        "outputId": "b5cce935-f186-4790-caf1-d7e0b2a57919"
      },
      "execution_count": 108,
      "outputs": [
        {
          "output_type": "stream",
          "name": "stdout",
          "text": [
            "Options Data\n",
            "{'calls':           Contract Name         Last Trade Date  Strike  Last Price     Bid  \\\n",
            "0   NFLX220422C00200000   2022-04-19 9:37AM EDT   200.0      136.70  146.30   \n",
            "1   NFLX220422C00230000  2022-04-11 10:57AM EDT   230.0      117.65  116.00   \n",
            "2   NFLX220422C00250000  2022-04-19 11:25AM EDT   250.0       98.10   97.80   \n",
            "3   NFLX220422C00255000  2022-04-18 12:06AM EDT   255.0       94.63   91.85   \n",
            "4   NFLX220422C00260000   2022-04-19 2:21PM EDT   260.0       87.95   87.40   \n",
            "..                  ...                     ...     ...         ...     ...   \n",
            "77  NFLX220422C00580000   2022-04-19 1:58PM EDT   580.0        0.02    0.00   \n",
            "78  NFLX220422C00590000   2022-04-19 1:23PM EDT   590.0        0.01    0.00   \n",
            "79  NFLX220422C00600000   2022-04-19 2:24PM EDT   600.0        0.01    0.00   \n",
            "80  NFLX220422C00610000   2022-04-19 2:48PM EDT   610.0        0.01    0.00   \n",
            "81  NFLX220422C00620000   2022-04-19 2:49PM EDT   620.0        0.01    0.00   \n",
            "\n",
            "       Ask  Change  % Change Volume  Open Interest Implied Volatility  \n",
            "0   149.65  -22.30   -14.03%      6              5              0.00%  \n",
            "1   121.80    0.00         -     12             12            251.71%  \n",
            "2   101.25   11.69   +13.53%     16            114            193.65%  \n",
            "3    97.05    0.00         -      -              1            205.66%  \n",
            "4    90.90    9.49   +12.10%      9             76            163.28%  \n",
            "..     ...     ...       ...    ...            ...                ...  \n",
            "77    0.02    0.01  +100.00%     57            140            146.88%  \n",
            "78    0.02   -0.01   -50.00%     51             39            153.13%  \n",
            "79    0.02   -0.02   -66.67%    225            183            156.25%  \n",
            "80    0.01    0.00         -     55             74            153.13%  \n",
            "81    0.01    0.00         -    183            228            156.25%  \n",
            "\n",
            "[82 rows x 11 columns], 'puts':           Contract Name         Last Trade Date  Strike  Last Price     Bid  \\\n",
            "0   NFLX220422P00190000   2022-04-19 3:11PM EDT   190.0        0.04    0.03   \n",
            "1   NFLX220422P00200000   2022-04-19 3:13PM EDT   200.0        0.06    0.05   \n",
            "2   NFLX220422P00210000   2022-04-19 3:09PM EDT   210.0        0.10    0.09   \n",
            "3   NFLX220422P00220000   2022-04-19 3:07PM EDT   220.0        0.18    0.17   \n",
            "4   NFLX220422P00230000   2022-04-19 3:11PM EDT   230.0        0.23    0.23   \n",
            "..                  ...                     ...     ...         ...     ...   \n",
            "88  NFLX220422P00500000   2022-04-19 3:09PM EDT   500.0      151.73  150.25   \n",
            "89  NFLX220422P00510000   2022-04-19 9:36AM EDT   510.0      174.00  158.80   \n",
            "90  NFLX220422P00520000  2022-04-18 12:04AM EDT   520.0      169.94  170.30   \n",
            "91  NFLX220422P00530000   2022-03-29 3:28PM EDT   530.0      135.00  178.80   \n",
            "92  NFLX220422P00600000  2022-04-18 12:04AM EDT   600.0      261.30  249.75   \n",
            "\n",
            "       Ask  Change % Change Volume  Open Interest Implied Volatility  \n",
            "0     0.04   -0.02  -33.33%   1236            962            204.69%  \n",
            "1     0.07   -0.01  -14.29%   2251            957            198.44%  \n",
            "2     0.10   -0.02  -16.67%   3668           2170            191.80%  \n",
            "3     0.18    0.00        -    994            285            189.06%  \n",
            "4     0.24   -0.06  -20.69%   1385           1530            179.49%  \n",
            "..     ...     ...      ...    ...            ...                ...  \n",
            "88  154.20    7.23   +5.00%      2             44            215.23%  \n",
            "89  163.75   14.03   +8.77%      4             31            201.61%  \n",
            "90  173.80    0.00        -      -              1            229.05%  \n",
            "91  183.95    0.00        -      1              1            220.51%  \n",
            "92  254.15    0.00        -      -              1            287.45%  \n",
            "\n",
            "[93 rows x 11 columns]}\n",
            "\n",
            "\n",
            "Dates\n",
            "['April 22, 2022', 'April 29, 2022', 'May 6, 2022', 'May 13, 2022', 'May 20, 2022', 'May 27, 2022', 'June 17, 2022', 'July 15, 2022', 'September 16, 2022', 'December 16, 2022', 'January 20, 2023', 'March 17, 2023', 'June 16, 2023', 'January 19, 2024']\n",
            "14\n",
            "\n",
            "\n",
            "Data For Date: May 6, 2022 is: \n",
            "          Contract Name         Last Trade Date  Strike  Last Price     Bid  \\\n",
            "0   NFLX220506C00190000  2022-04-18 12:06AM EDT   190.0      158.85  156.50   \n",
            "1   NFLX220506C00240000   2022-04-19 3:06PM EDT   240.0      109.20  108.30   \n",
            "2   NFLX220506C00250000   2022-04-19 2:51PM EDT   250.0       99.20   97.45   \n",
            "3   NFLX220506C00260000   2022-04-19 1:41PM EDT   260.0       88.84   89.05   \n",
            "4   NFLX220506C00270000   2022-04-06 2:22PM EDT   270.0       96.69   79.10   \n",
            "5   NFLX220506C00290000   2022-04-14 1:39PM EDT   290.0       55.92   62.05   \n",
            "6   NFLX220506C00300000  2022-04-05 10:08AM EDT   300.0       88.20   54.25   \n",
            "7   NFLX220506C00305000  2022-04-18 11:15AM EDT   305.0       39.35   49.85   \n",
            "8   NFLX220506C00310000  2022-04-18 12:18PM EDT   310.0       33.73   45.85   \n",
            "9   NFLX220506C00315000   2022-04-18 1:13PM EDT   315.0       32.10   42.30   \n",
            "10  NFLX220506C00320000   2022-04-19 1:26PM EDT   320.0       37.35   38.80   \n",
            "11  NFLX220506C00325000   2022-04-19 2:18PM EDT   325.0       34.80   35.25   \n",
            "12  NFLX220506C00330000  2022-04-19 11:04AM EDT   330.0       30.15   32.05   \n",
            "13  NFLX220506C00335000   2022-04-19 2:55PM EDT   335.0       28.90   29.05   \n",
            "14  NFLX220506C00340000   2022-04-19 2:48PM EDT   340.0       26.73   25.95   \n",
            "15  NFLX220506C00345000   2022-04-19 2:23PM EDT   345.0       22.95   23.35   \n",
            "16  NFLX220506C00350000   2022-04-19 3:04PM EDT   350.0       20.95   20.80   \n",
            "17  NFLX220506C00355000   2022-04-19 3:04PM EDT   355.0       18.63   18.75   \n",
            "18  NFLX220506C00360000   2022-04-19 3:07PM EDT   360.0       16.59   16.65   \n",
            "19  NFLX220506C00365000   2022-04-19 1:12PM EDT   365.0       14.38   14.35   \n",
            "20  NFLX220506C00370000   2022-04-19 2:43PM EDT   370.0       13.35   12.65   \n",
            "21  NFLX220506C00375000   2022-04-19 3:04PM EDT   375.0       11.20   11.05   \n",
            "22  NFLX220506C00380000   2022-04-19 2:35PM EDT   380.0        9.66    9.80   \n",
            "23  NFLX220506C00385000   2022-04-19 2:51PM EDT   385.0        8.70    8.65   \n",
            "24  NFLX220506C00390000   2022-04-19 3:07PM EDT   390.0        7.45    7.50   \n",
            "25  NFLX220506C00395000   2022-04-19 3:04PM EDT   395.0        6.50    6.60   \n",
            "26  NFLX220506C00400000   2022-04-19 3:10PM EDT   400.0        5.70    5.70   \n",
            "27  NFLX220506C00405000   2022-04-19 3:05PM EDT   405.0        4.85    4.80   \n",
            "28  NFLX220506C00410000   2022-04-19 3:08PM EDT   410.0        4.27    4.20   \n",
            "29  NFLX220506C00415000   2022-04-19 2:49PM EDT   415.0        3.75    3.65   \n",
            "30  NFLX220506C00420000   2022-04-19 3:07PM EDT   420.0        3.20    3.10   \n",
            "31  NFLX220506C00425000   2022-04-19 2:40PM EDT   425.0        2.74    2.68   \n",
            "32  NFLX220506C00430000   2022-04-19 2:40PM EDT   430.0        2.43    2.31   \n",
            "33  NFLX220506C00435000   2022-04-19 1:45PM EDT   435.0        2.10    2.01   \n",
            "34  NFLX220506C00440000   2022-04-19 3:03PM EDT   440.0        1.87    1.74   \n",
            "35  NFLX220506C00445000   2022-04-19 2:42PM EDT   445.0        1.60    1.52   \n",
            "36  NFLX220506C00450000   2022-04-19 2:52PM EDT   450.0        1.42    1.33   \n",
            "37  NFLX220506C00455000   2022-04-19 2:38PM EDT   455.0        1.19    1.16   \n",
            "38  NFLX220506C00460000   2022-04-19 2:41PM EDT   460.0        1.08    1.00   \n",
            "39  NFLX220506C00465000   2022-04-19 2:56PM EDT   465.0        0.97    0.90   \n",
            "40  NFLX220506C00470000   2022-04-19 2:33PM EDT   470.0        0.85    0.73   \n",
            "41  NFLX220506C00480000   2022-04-19 2:02PM EDT   480.0        0.65    0.51   \n",
            "42  NFLX220506C00490000   2022-04-19 1:48PM EDT   490.0        0.50    0.45   \n",
            "43  NFLX220506C00500000   2022-04-19 1:44PM EDT   500.0        0.46    0.40   \n",
            "44  NFLX220506C00510000   2022-04-19 2:34PM EDT   510.0        0.38    0.27   \n",
            "45  NFLX220506C00520000   2022-04-19 2:49PM EDT   520.0        0.25    0.23   \n",
            "46  NFLX220506C00530000   2022-04-18 2:08PM EDT   530.0        0.08    0.07   \n",
            "47  NFLX220506C00540000   2022-04-19 2:35PM EDT   540.0        0.26    0.09   \n",
            "48  NFLX220506C00550000   2022-04-19 1:31PM EDT   550.0        0.18    0.13   \n",
            "49  NFLX220506C00580000  2022-04-04 12:43PM EDT   580.0        0.35    0.04   \n",
            "50  NFLX220506C00590000   2022-04-18 2:20PM EDT   590.0        0.06    0.01   \n",
            "51  NFLX220506C00600000   2022-04-18 2:20PM EDT   600.0        0.05    0.00   \n",
            "\n",
            "       Ask  Change  % Change Volume Open Interest Implied Volatility  \n",
            "0   161.70    0.00         -      -             -            161.43%  \n",
            "1   110.30   14.64   +15.48%     91           115             77.64%  \n",
            "2   101.90    6.50    +7.01%     38            10            100.02%  \n",
            "3    91.00  -42.41   -32.31%     23            23             78.59%  \n",
            "4    83.00    0.00         -     50            48             70.95%  \n",
            "5    64.50    0.00         -     10            21             73.66%  \n",
            "6    56.20    0.00         -      6             0             75.12%  \n",
            "7    52.10    0.00         -     10            11             73.55%  \n",
            "8    47.40    0.00         -      2            30             71.07%  \n",
            "9    43.85    0.00         -      1            29             71.68%  \n",
            "10   40.05  -27.15   -42.09%      3             3             71.15%  \n",
            "11   36.15    8.24   +31.02%      3            14             69.74%  \n",
            "12   33.00    5.53   +22.46%     24            11             69.79%  \n",
            "13   29.90    7.63   +35.87%     14           249             69.62%  \n",
            "14   26.60    8.03   +42.94%     68            76             68.34%  \n",
            "15   24.05    5.95   +35.00%     25            44             68.53%  \n",
            "16   21.30    5.95   +39.67%    243           707             67.87%  \n",
            "17   19.25    6.27   +50.73%     19           122             68.54%  \n",
            "18   17.40    5.34   +47.47%     83           295             68.87%  \n",
            "19   14.80    4.63   +47.49%     15            51             67.06%  \n",
            "20   13.00    4.97   +59.31%     78           105             66.96%  \n",
            "21   11.45    4.56   +68.67%     78           141             66.89%  \n",
            "22   10.15    3.55   +58.10%     86            93             67.35%  \n",
            "23    8.95    3.45   +65.71%     60           139             67.68%  \n",
            "24    7.80    3.22   +76.12%     53           180             67.60%  \n",
            "25    6.90    2.99   +85.19%    108           102             68.05%  \n",
            "26    6.00    2.55   +80.95%    460           269             68.04%  \n",
            "27    5.10    3.18  +190.42%     55            51             67.54%  \n",
            "28    4.40    2.25  +111.39%     36            59             67.75%  \n",
            "29    3.90    1.85   +97.37%     41            73             68.23%  \n",
            "30    3.35    1.55   +93.94%    106           131             68.15%  \n",
            "31    2.94    1.46  +114.06%     34           152             68.51%  \n",
            "32    2.59    1.27  +109.48%     74           100             68.88%  \n",
            "33    2.31    1.20  +133.33%      8            66             69.46%  \n",
            "34    1.93    1.03  +122.62%     14            59             69.41%  \n",
            "35    1.80    0.75   +88.24%    128           160             70.36%  \n",
            "36    1.57    0.89  +167.92%    115           152             70.75%  \n",
            "37    1.41    0.71  +147.92%     27            39             71.34%  \n",
            "38    1.15    0.66  +157.14%     10            25             71.12%  \n",
            "39    1.01    0.47   +94.00%      9            11             71.73%  \n",
            "40    0.99    0.35   +70.00%      9           131             72.46%  \n",
            "41    0.78    0.30   +85.71%      6            43             72.95%  \n",
            "42    0.62    0.27  +117.39%     13            79             74.59%  \n",
            "43    0.47    0.18   +64.29%     13           130             75.88%  \n",
            "44    0.49    0.18   +90.00%      2           144             77.83%  \n",
            "45    0.31    0.06   +31.58%      4            20             77.54%  \n",
            "46    0.41    0.00         -      5             7             79.49%  \n",
            "47    0.35    0.16  +160.00%      4             3             81.64%  \n",
            "48    0.28   -0.02   -10.00%     24            32             83.89%  \n",
            "49    0.26    0.00         -      -             1             89.06%  \n",
            "50    0.24    0.00         -     20            20             89.84%  \n",
            "51    0.26    0.00         -    111           111             92.77%  \n"
          ]
        },
        {
          "output_type": "error",
          "ename": "AttributeError",
          "evalue": "ignored",
          "traceback": [
            "\u001b[0;31m---------------------------------------------------------------------------\u001b[0m",
            "\u001b[0;31mAttributeError\u001b[0m                            Traceback (most recent call last)",
            "\u001b[0;32m<ipython-input-108-312418267301>\u001b[0m in \u001b[0;36m<module>\u001b[0;34m()\u001b[0m\n\u001b[1;32m     50\u001b[0m     \u001b[0mday_number\u001b[0m \u001b[0;34m=\u001b[0m \u001b[0mday_number\u001b[0m\u001b[0;34m[\u001b[0m\u001b[0;36m0\u001b[0m\u001b[0;34m]\u001b[0m\u001b[0;34m\u001b[0m\u001b[0;34m\u001b[0m\u001b[0m\n\u001b[1;32m     51\u001b[0m     \u001b[0myear\u001b[0m \u001b[0;34m=\u001b[0m \u001b[0msplit\u001b[0m\u001b[0;34m[\u001b[0m\u001b[0;36m2\u001b[0m\u001b[0;34m]\u001b[0m\u001b[0;34m\u001b[0m\u001b[0;34m\u001b[0m\u001b[0m\n\u001b[0;32m---> 52\u001b[0;31m     \u001b[0mfirst\u001b[0m \u001b[0;34m=\u001b[0m \u001b[0mdatetime\u001b[0m\u001b[0;34m.\u001b[0m\u001b[0mdatetime\u001b[0m\u001b[0;34m(\u001b[0m\u001b[0myear\u001b[0m\u001b[0;34m=\u001b[0m\u001b[0mint\u001b[0m\u001b[0;34m(\u001b[0m\u001b[0myear\u001b[0m\u001b[0;34m)\u001b[0m\u001b[0;34m,\u001b[0m \u001b[0mmonth\u001b[0m\u001b[0;34m=\u001b[0m\u001b[0mmonth\u001b[0m\u001b[0;34m,\u001b[0m \u001b[0mday\u001b[0m\u001b[0;34m=\u001b[0m\u001b[0mint\u001b[0m\u001b[0;34m(\u001b[0m\u001b[0mday_number\u001b[0m\u001b[0;34m)\u001b[0m\u001b[0;34m)\u001b[0m\u001b[0;34m\u001b[0m\u001b[0;34m\u001b[0m\u001b[0m\n\u001b[0m\u001b[1;32m     53\u001b[0m     \u001b[0;31m#date = datetime.strptime(date, '%MMMM %d, %Y')\u001b[0m\u001b[0;34m\u001b[0m\u001b[0;34m\u001b[0m\u001b[0;34m\u001b[0m\u001b[0m\n\u001b[1;32m     54\u001b[0m     \u001b[0;31m#print(date)\u001b[0m\u001b[0;34m\u001b[0m\u001b[0;34m\u001b[0m\u001b[0;34m\u001b[0m\u001b[0m\n",
            "\u001b[0;31mAttributeError\u001b[0m: type object 'datetime.datetime' has no attribute 'datetime'"
          ]
        }
      ]
    }
  ]
}