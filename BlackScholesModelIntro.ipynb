{
  "nbformat": 4,
  "nbformat_minor": 0,
  "metadata": {
    "colab": {
      "name": "BlackScholesModelIntro.ipynb",
      "provenance": [],
      "collapsed_sections": []
    },
    "kernelspec": {
      "name": "python3",
      "display_name": "Python 3"
    },
    "language_info": {
      "name": "python"
    }
  },
  "cells": [
    {
      "cell_type": "markdown",
      "source": [
        "Black Scholes Model in Python for Predicting Options Premiums\n",
        "\n",
        "Team members: Javier Arevalo, Anson Tsang\n"
      ],
      "metadata": {
        "id": "0DUcO8vm_55x"
      }
    },
    {
      "cell_type": "markdown",
      "source": [
        "-A stock option is the right to buy or sell a stock at an agreed price and date, each option contracts represents 100 shares of that stock.\n",
        "\n",
        "The two types of options used for different situations are either:\n",
        "1. calls: betting a stock will increase in value\n",
        "2. puts: betting a stock will decrease in value \n"
      ],
      "metadata": {
        "id": "ZSecRY8wACLl"
      }
    },
    {
      "cell_type": "markdown",
      "source": [
        "There are also many different styles of options, such as the following:\n",
        "1. American options can be exercised before the expiration date\n",
        "2. European options can only be exercised at the expiration date. \n"
      ],
      "metadata": {
        "id": "TdJazRHTAU5F"
      }
    },
    {
      "cell_type": "markdown",
      "source": [
        "There are many different methods for pricing options, but the Black Scholes model is considered to be one of the best ways of determining fair prices of options. \n",
        "\n",
        "It requires five variables:\n",
        "\n",
        "-K: the strike price of an option\n",
        "\n",
        "-S: the current stock price\n",
        "\n",
        "-t: time to expiration\n",
        "\n",
        "-r: risk free rate\n",
        "\n",
        "-$\\sigma$: volatility measured as the standard deviation of the log return\n",
        "\n",
        "\n",
        "The PDE form of the Black Scholes equation is:\n",
        "\n",
        "$\\frac{δV}{δt}+\\frac{1}{2}σ^2S^2\\frac{δ^2V}{δS^2}+rS\\frac{δV}{δS}-rV=0$\n",
        "\n",
        "Where V represents the value of the option, S the value of the underlying asset.\n",
        "\n",
        "It's possible to use a finite difference scheme to solve this PDE numerically:\n",
        "\n",
        "$\\frac{V^{i+1}_j - V^i_j}{Δt}+\\frac{1}{2}σ^2S^2(\\frac{V_{j+1}^i-2V_j^i+2_{j-1}^i}{Δx^2})+rS\\frac{V_{j+1}^i-V_{j-1}^i}{2Δx}-rSV_{j}^i = 0$\n",
        "\n",
        "Rearranging the equation, and given $S \\equiv jΔx$:\n",
        "\n",
        "$V_j^{i+1}= {α}C_{j-1}^n + {β}C_j^n +{ρ}C_{j+1}^n$\n",
        "\n",
        "$α = \\frac{σ^2j^2Δt - rjΔt}{2}$\n",
        "\n",
        "$β = 1 - σ^2j^2Δt -rΔt$\n",
        "\n",
        "$ρ = \\frac{σ^2j^2Δt + rjΔt}{2}$\n",
        "\n",
        "where i represents time discretization, and j represents price ('spatial') discretization.\n",
        "\n",
        "With understanding of initial and boundary conditions, the Black Scholes equation can be solved using numerical techniques for different derivatives, such as American options. \n",
        "\n",
        "However, closed form exact solutions can be developed for special cases, such as the European call/put options, which can only be exercised at expiration:\n",
        "\n",
        "$\\begin{cases}\n",
        "V(0,t) = 0 \\space{}|\\space{} t \\ge 0&(1)\\\\\n",
        "V(S,t) = S \\space{}|\\space{}S→∞&(2)\\\\\n",
        "V(S,T) = max(S-K,0) &(3)\\\\\n",
        "\\end{cases}$\n",
        "\n",
        "The first boundary condition states the derivative has no value if S=0 is at expiry, which holds for all $t\\ge0$. The second derivative assumes that as the stock price approaches infinity, the price of the option will become the stock price S. The final boundary condition provides the payoff of the derivative at maturity time T, which is the max of either the difference between the stock price and strike price, or 0.\n",
        "\n",
        "To solve the Black Scholes equation analytically, the PDE must be converted to a known form, the classical 1D heat diffusion equation with Dirchlet boundary conditions:\n",
        "\n",
        "$\\frac{δu}{δτ}=\\frac{δ^2u}{δx^2}$\n",
        "\n",
        "Where temperature u is a function of time $τ$ and spatial location x.\n",
        "\n",
        "The closed form solution of the heat equation is:\n",
        "\n",
        "$u(x,τ)=u_o*Φ(x,t)$\n",
        "\n",
        "Which is the initial value convoluted by the fundamental solution to the heat equation:\n",
        "\n",
        "$u(x,τ)=\\frac{1}{4τ\\sqrt{πτ}}∫_{-∞}^{∞}u_0(s)e^{\\frac{-(x-s)^2}{4τ}}ds$\n",
        "\n",
        "Using different mathemetical and substitution techniques, the closed form solution of Black Scholes PDE is:\n",
        "\n",
        "$d_{1}=log(\\frac{S}{K})+\\frac{(r+σ^{2}/2)*T}{σ*\\sqrt{T}}$ \\\n",
        "$d_{2} = d_1 - \\sigma*\\sqrt{T}$\n",
        "\n",
        "$C(T) = SN(d_1)-Ke^{-rT}N(d_2)$\\\n",
        "$P(T)=Ke^{-rT}-S + C(T)$\n",
        "\n",
        "There are two ways to calculate volatility, either using historical data or calculating the implied volatility through numerical root finding such as Newton-Raphson method. We will calculate the implied volatility at $C(t_i<T)$ and use it as an input parameter to estimate $C(t_j<T)$, where $t_i<t_j$. "
      ],
      "metadata": {
        "id": "EA4-pcgWAgyB"
      }
    },
    {
      "cell_type": "markdown",
      "source": [
        "Assumptions made for this model:\n",
        "1. It works on European options that can only be exercised at expiration\n",
        "2. No dividends paid during the option's life \n",
        "3. No transaction costs and commission costs in buying the option\n",
        "4. The returns on the underlying are normally distributed "
      ],
      "metadata": {
        "id": "kxtqzZ2hAx91"
      }
    },
    {
      "cell_type": "markdown",
      "source": [
        "Closed Form Black Scholes in Python:\n",
        "\n",
        "1. Need to calculate the probability of receiving the stock at the expiration of the option (price increasing more than strike price). This will be d1\n",
        "\n",
        "2. Need to calculate the risk adjusted probability that the option will be exercised. This will be d2\n",
        "\n",
        "Need a function to calculate d1 and d2. \n",
        "\n",
        "3. After that we could input them into a Normal distribution cumulative distribution function using scipy, which will give us the probabilities. \n",
        "\n",
        "Each requires 5 inputs: S, K, T, r and $σ$\n",
        "\n"
      ],
      "metadata": {
        "id": "43WsEBVlBGzL"
      }
    },
    {
      "cell_type": "code",
      "execution_count": null,
      "metadata": {
        "id": "DBkoT-LS_15R"
      },
      "outputs": [],
      "source": [
        "from math import log, sqrt, pi, exp\n",
        "from scipy.stats import norm \n",
        "from datetime import datetime, date\n",
        "import numpy as np\n",
        "import pandas as pd \n",
        "from pandas import DataFrame\n",
        "\n",
        "def d1(S, K, T, r, sigma):\n",
        "  return (log(S/K) + (r+sigma**2/2.)*T)/(sigma*sqrt(T))\n",
        "\n",
        "def d2(S, K, T, r, sigma):\n",
        "  return d1(S, K, T, r, sigma) - sigma*sqrt(T)"
      ]
    },
    {
      "cell_type": "markdown",
      "source": [
        "Now we can implement the Black Scholes formula in Python using the values calculated from above functions. \n",
        "\n",
        "However, there has to be two different formulas: one for calls, and other for puts:\n"
      ],
      "metadata": {
        "id": "QReHS8RC_3IZ"
      }
    },
    {
      "cell_type": "code",
      "source": [
        "def bs_call(S, K, T, r, sigma):\n",
        "  return S*norm.cdf(d1(S, K, T, r, sigma)) - K*exp(-r*T)*norm.cdf(d2(S, K, T, r, sigma))\n",
        "\n",
        "def bs_put(S, K, T, r, sigma):\n",
        "  return K*exp(-r*T)-S+bs_call(S, K, T, r, sigma)"
      ],
      "metadata": {
        "id": "48vRnDo1Cu2x"
      },
      "execution_count": null,
      "outputs": []
    },
    {
      "cell_type": "markdown",
      "source": [
        "Collect data:\n",
        "\n",
        "To test our model need to get historical data for a specific stock and other inputs related to the stock. \n",
        "\n",
        "For this example use Yahoo Finance and pandas library to get the necessary data "
      ],
      "metadata": {
        "id": "3KKwb7t7DSWQ"
      }
    },
    {
      "cell_type": "markdown",
      "source": [
        "*Are able to calculate sigma value (volatility of the stock) by multiplying the standard deviation of the stock returns over the past year by the square root of 252 (number of days market is open over a year). \n",
        "\n",
        "*For current price, use the last close price in dataset. \n",
        "\n",
        "*Input r, the risk free rate, as the 10-year US treasury yield which I can get from ^TNX"
      ],
      "metadata": {
        "id": "G4TkUzURDcGU"
      }
    },
    {
      "cell_type": "code",
      "source": [
        "from datetime import datetime, date\n",
        "import numpy as np\n",
        "import pandas as pd \n",
        "import pandas_datareader.data as web \n",
        "\n",
        "stock = 'SPY'\n",
        "expiry = '12-18-2020'\n",
        "strike_price = 370\n",
        "\n",
        "today = datetime.now()\n",
        "one_year_ago = today.replace(year=today.year - 1)\n",
        "\n",
        "#This call is enough to call yahoo finance api or web scrape info? Double check\n",
        "df = web.DataReader(stock, 'yahoo', one_year_ago, today)\n",
        "\n",
        "df = df.sort_valus(by=\"Date\")\n",
        "df = df.dropna()\n",
        "df = df.assign(close_day_before=df.Close.shift(1))\n",
        "df['returns'] = ((df.Close - df.close_day_before)/df.close_day_before)\n",
        "\n",
        "\n",
        "#Calculate sigma, or volatility of stock as follows:\n",
        "sigma = np.sqrt(252) * df['returns'].std()\n",
        "uty = (web.DataReader(\n",
        "    \"^TNX\", 'yahoo', today.replace(day=today.day-1), today)['Close'].iloc[-1])/100\n",
        "lcp = df['Close'].iloc[-1]\n",
        "t = (datetime.strptime(expiry, \"%m-%d-%Y\") - datetime.utcnow()).days / 365\n",
        "\n",
        "print('The Option Price is: ', bs_call(lcp, strike_price, t, uty, sigma))\n"
      ],
      "metadata": {
        "colab": {
          "base_uri": "https://localhost:8080/",
          "height": 891
        },
        "id": "ipWfLN8LD2Ee",
        "outputId": "b1fb06b7-a2f0-4b37-b4b9-8508c7d998ef"
      },
      "execution_count": null,
      "outputs": [
        {
          "output_type": "error",
          "ename": "RemoteDataError",
          "evalue": "ignored",
          "traceback": [
            "\u001b[0;31m---------------------------------------------------------------------------\u001b[0m",
            "\u001b[0;31mRemoteDataError\u001b[0m                           Traceback (most recent call last)",
            "\u001b[0;32m<ipython-input-4-fb839e344dc8>\u001b[0m in \u001b[0;36m<module>\u001b[0;34m()\u001b[0m\n\u001b[1;32m     12\u001b[0m \u001b[0;34m\u001b[0m\u001b[0m\n\u001b[1;32m     13\u001b[0m \u001b[0;31m#This call is enough to call yahoo finance api or web scrape info? Double check\u001b[0m\u001b[0;34m\u001b[0m\u001b[0;34m\u001b[0m\u001b[0;34m\u001b[0m\u001b[0m\n\u001b[0;32m---> 14\u001b[0;31m \u001b[0mdf\u001b[0m \u001b[0;34m=\u001b[0m \u001b[0mweb\u001b[0m\u001b[0;34m.\u001b[0m\u001b[0mDataReader\u001b[0m\u001b[0;34m(\u001b[0m\u001b[0mstock\u001b[0m\u001b[0;34m,\u001b[0m \u001b[0;34m'yahoo'\u001b[0m\u001b[0;34m,\u001b[0m \u001b[0mone_year_ago\u001b[0m\u001b[0;34m,\u001b[0m \u001b[0mtoday\u001b[0m\u001b[0;34m)\u001b[0m\u001b[0;34m\u001b[0m\u001b[0;34m\u001b[0m\u001b[0m\n\u001b[0m\u001b[1;32m     15\u001b[0m \u001b[0;34m\u001b[0m\u001b[0m\n\u001b[1;32m     16\u001b[0m \u001b[0mdf\u001b[0m \u001b[0;34m=\u001b[0m \u001b[0mdf\u001b[0m\u001b[0;34m.\u001b[0m\u001b[0msort_valus\u001b[0m\u001b[0;34m(\u001b[0m\u001b[0mby\u001b[0m\u001b[0;34m=\u001b[0m\u001b[0;34m\"Date\"\u001b[0m\u001b[0;34m)\u001b[0m\u001b[0;34m\u001b[0m\u001b[0;34m\u001b[0m\u001b[0m\n",
            "\u001b[0;32m/usr/local/lib/python3.7/dist-packages/pandas/util/_decorators.py\u001b[0m in \u001b[0;36mwrapper\u001b[0;34m(*args, **kwargs)\u001b[0m\n\u001b[1;32m    205\u001b[0m                 \u001b[0;32melse\u001b[0m\u001b[0;34m:\u001b[0m\u001b[0;34m\u001b[0m\u001b[0;34m\u001b[0m\u001b[0m\n\u001b[1;32m    206\u001b[0m                     \u001b[0mkwargs\u001b[0m\u001b[0;34m[\u001b[0m\u001b[0mnew_arg_name\u001b[0m\u001b[0;34m]\u001b[0m \u001b[0;34m=\u001b[0m \u001b[0mnew_arg_value\u001b[0m\u001b[0;34m\u001b[0m\u001b[0;34m\u001b[0m\u001b[0m\n\u001b[0;32m--> 207\u001b[0;31m             \u001b[0;32mreturn\u001b[0m \u001b[0mfunc\u001b[0m\u001b[0;34m(\u001b[0m\u001b[0;34m*\u001b[0m\u001b[0margs\u001b[0m\u001b[0;34m,\u001b[0m \u001b[0;34m**\u001b[0m\u001b[0mkwargs\u001b[0m\u001b[0;34m)\u001b[0m\u001b[0;34m\u001b[0m\u001b[0;34m\u001b[0m\u001b[0m\n\u001b[0m\u001b[1;32m    208\u001b[0m \u001b[0;34m\u001b[0m\u001b[0m\n\u001b[1;32m    209\u001b[0m         \u001b[0;32mreturn\u001b[0m \u001b[0mcast\u001b[0m\u001b[0;34m(\u001b[0m\u001b[0mF\u001b[0m\u001b[0;34m,\u001b[0m \u001b[0mwrapper\u001b[0m\u001b[0;34m)\u001b[0m\u001b[0;34m\u001b[0m\u001b[0;34m\u001b[0m\u001b[0m\n",
            "\u001b[0;32m/usr/local/lib/python3.7/dist-packages/pandas_datareader/data.py\u001b[0m in \u001b[0;36mDataReader\u001b[0;34m(name, data_source, start, end, retry_count, pause, session, api_key)\u001b[0m\n\u001b[1;32m    382\u001b[0m             \u001b[0mretry_count\u001b[0m\u001b[0;34m=\u001b[0m\u001b[0mretry_count\u001b[0m\u001b[0;34m,\u001b[0m\u001b[0;34m\u001b[0m\u001b[0;34m\u001b[0m\u001b[0m\n\u001b[1;32m    383\u001b[0m             \u001b[0mpause\u001b[0m\u001b[0;34m=\u001b[0m\u001b[0mpause\u001b[0m\u001b[0;34m,\u001b[0m\u001b[0;34m\u001b[0m\u001b[0;34m\u001b[0m\u001b[0m\n\u001b[0;32m--> 384\u001b[0;31m             \u001b[0msession\u001b[0m\u001b[0;34m=\u001b[0m\u001b[0msession\u001b[0m\u001b[0;34m,\u001b[0m\u001b[0;34m\u001b[0m\u001b[0;34m\u001b[0m\u001b[0m\n\u001b[0m\u001b[1;32m    385\u001b[0m         ).read()\n\u001b[1;32m    386\u001b[0m \u001b[0;34m\u001b[0m\u001b[0m\n",
            "\u001b[0;32m/usr/local/lib/python3.7/dist-packages/pandas_datareader/base.py\u001b[0m in \u001b[0;36mread\u001b[0;34m(self)\u001b[0m\n\u001b[1;32m    251\u001b[0m         \u001b[0;31m# If a single symbol, (e.g., 'GOOG')\u001b[0m\u001b[0;34m\u001b[0m\u001b[0;34m\u001b[0m\u001b[0;34m\u001b[0m\u001b[0m\n\u001b[1;32m    252\u001b[0m         \u001b[0;32mif\u001b[0m \u001b[0misinstance\u001b[0m\u001b[0;34m(\u001b[0m\u001b[0mself\u001b[0m\u001b[0;34m.\u001b[0m\u001b[0msymbols\u001b[0m\u001b[0;34m,\u001b[0m \u001b[0;34m(\u001b[0m\u001b[0mstring_types\u001b[0m\u001b[0;34m,\u001b[0m \u001b[0mint\u001b[0m\u001b[0;34m)\u001b[0m\u001b[0;34m)\u001b[0m\u001b[0;34m:\u001b[0m\u001b[0;34m\u001b[0m\u001b[0;34m\u001b[0m\u001b[0m\n\u001b[0;32m--> 253\u001b[0;31m             \u001b[0mdf\u001b[0m \u001b[0;34m=\u001b[0m \u001b[0mself\u001b[0m\u001b[0;34m.\u001b[0m\u001b[0m_read_one_data\u001b[0m\u001b[0;34m(\u001b[0m\u001b[0mself\u001b[0m\u001b[0;34m.\u001b[0m\u001b[0murl\u001b[0m\u001b[0;34m,\u001b[0m \u001b[0mparams\u001b[0m\u001b[0;34m=\u001b[0m\u001b[0mself\u001b[0m\u001b[0;34m.\u001b[0m\u001b[0m_get_params\u001b[0m\u001b[0;34m(\u001b[0m\u001b[0mself\u001b[0m\u001b[0;34m.\u001b[0m\u001b[0msymbols\u001b[0m\u001b[0;34m)\u001b[0m\u001b[0;34m)\u001b[0m\u001b[0;34m\u001b[0m\u001b[0;34m\u001b[0m\u001b[0m\n\u001b[0m\u001b[1;32m    254\u001b[0m         \u001b[0;31m# Or multiple symbols, (e.g., ['GOOG', 'AAPL', 'MSFT'])\u001b[0m\u001b[0;34m\u001b[0m\u001b[0;34m\u001b[0m\u001b[0;34m\u001b[0m\u001b[0m\n\u001b[1;32m    255\u001b[0m         \u001b[0;32melif\u001b[0m \u001b[0misinstance\u001b[0m\u001b[0;34m(\u001b[0m\u001b[0mself\u001b[0m\u001b[0;34m.\u001b[0m\u001b[0msymbols\u001b[0m\u001b[0;34m,\u001b[0m \u001b[0mDataFrame\u001b[0m\u001b[0;34m)\u001b[0m\u001b[0;34m:\u001b[0m\u001b[0;34m\u001b[0m\u001b[0;34m\u001b[0m\u001b[0m\n",
            "\u001b[0;32m/usr/local/lib/python3.7/dist-packages/pandas_datareader/yahoo/daily.py\u001b[0m in \u001b[0;36m_read_one_data\u001b[0;34m(self, url, params)\u001b[0m\n\u001b[1;32m    151\u001b[0m         \u001b[0murl\u001b[0m \u001b[0;34m=\u001b[0m \u001b[0murl\u001b[0m\u001b[0;34m.\u001b[0m\u001b[0mformat\u001b[0m\u001b[0;34m(\u001b[0m\u001b[0msymbol\u001b[0m\u001b[0;34m)\u001b[0m\u001b[0;34m\u001b[0m\u001b[0;34m\u001b[0m\u001b[0m\n\u001b[1;32m    152\u001b[0m \u001b[0;34m\u001b[0m\u001b[0m\n\u001b[0;32m--> 153\u001b[0;31m         \u001b[0mresp\u001b[0m \u001b[0;34m=\u001b[0m \u001b[0mself\u001b[0m\u001b[0;34m.\u001b[0m\u001b[0m_get_response\u001b[0m\u001b[0;34m(\u001b[0m\u001b[0murl\u001b[0m\u001b[0;34m,\u001b[0m \u001b[0mparams\u001b[0m\u001b[0;34m=\u001b[0m\u001b[0mparams\u001b[0m\u001b[0;34m)\u001b[0m\u001b[0;34m\u001b[0m\u001b[0;34m\u001b[0m\u001b[0m\n\u001b[0m\u001b[1;32m    154\u001b[0m         \u001b[0mptrn\u001b[0m \u001b[0;34m=\u001b[0m \u001b[0;34mr\"root\\.App\\.main = (.*?);\\n}\\(this\\)\\);\"\u001b[0m\u001b[0;34m\u001b[0m\u001b[0;34m\u001b[0m\u001b[0m\n\u001b[1;32m    155\u001b[0m         \u001b[0;32mtry\u001b[0m\u001b[0;34m:\u001b[0m\u001b[0;34m\u001b[0m\u001b[0;34m\u001b[0m\u001b[0m\n",
            "\u001b[0;32m/usr/local/lib/python3.7/dist-packages/pandas_datareader/base.py\u001b[0m in \u001b[0;36m_get_response\u001b[0;34m(self, url, params, headers)\u001b[0m\n\u001b[1;32m    179\u001b[0m             \u001b[0mmsg\u001b[0m \u001b[0;34m+=\u001b[0m \u001b[0;34m\"\\nResponse Text:\\n{0}\"\u001b[0m\u001b[0;34m.\u001b[0m\u001b[0mformat\u001b[0m\u001b[0;34m(\u001b[0m\u001b[0mlast_response_text\u001b[0m\u001b[0;34m)\u001b[0m\u001b[0;34m\u001b[0m\u001b[0;34m\u001b[0m\u001b[0m\n\u001b[1;32m    180\u001b[0m \u001b[0;34m\u001b[0m\u001b[0m\n\u001b[0;32m--> 181\u001b[0;31m         \u001b[0;32mraise\u001b[0m \u001b[0mRemoteDataError\u001b[0m\u001b[0;34m(\u001b[0m\u001b[0mmsg\u001b[0m\u001b[0;34m)\u001b[0m\u001b[0;34m\u001b[0m\u001b[0;34m\u001b[0m\u001b[0m\n\u001b[0m\u001b[1;32m    182\u001b[0m \u001b[0;34m\u001b[0m\u001b[0m\n\u001b[1;32m    183\u001b[0m     \u001b[0;32mdef\u001b[0m \u001b[0m_get_crumb\u001b[0m\u001b[0;34m(\u001b[0m\u001b[0mself\u001b[0m\u001b[0;34m,\u001b[0m \u001b[0;34m*\u001b[0m\u001b[0margs\u001b[0m\u001b[0;34m)\u001b[0m\u001b[0;34m:\u001b[0m\u001b[0;34m\u001b[0m\u001b[0;34m\u001b[0m\u001b[0m\n",
            "\u001b[0;31mRemoteDataError\u001b[0m: Unable to read URL: https://finance.yahoo.com/quote/SPY/history?period1=1613621694&period2=1645243199&interval=1d&frequency=1d&filter=history\nResponse Text:\nb'<!DOCTYPE html>\\n  <html lang=\"en-us\"><head>\\n  <meta http-equiv=\"content-type\" content=\"text/html; charset=UTF-8\">\\n      <meta charset=\"utf-8\">\\n      <title>Yahoo</title>\\n      <meta name=\"viewport\" content=\"width=device-width,initial-scale=1,minimal-ui\">\\n      <meta http-equiv=\"X-UA-Compatible\" content=\"IE=edge,chrome=1\">\\n      <style>\\n  html {\\n      height: 100%;\\n  }\\n  body {\\n      background: #fafafc url(https://s.yimg.com/nn/img/sad-panda-201402200631.png) 50% 50%;\\n      background-size: cover;\\n      height: 100%;\\n      text-align: center;\\n      font: 300 18px \"helvetica neue\", helvetica, verdana, tahoma, arial, sans-serif;\\n  }\\n  table {\\n      height: 100%;\\n      width: 100%;\\n      table-layout: fixed;\\n      border-collapse: collapse;\\n      border-spacing: 0;\\n      border: none;\\n  }\\n  h1 {\\n      font-size: 42px;\\n      font-weight: 400;\\n      color: #400090;\\n  }\\n  p {\\n      color: #1A1A1A;\\n  }\\n  #message-1 {\\n      font-weight: bold;\\n      margin: 0;\\n  }\\n  #message-2 {\\n      display: inline-block;\\n      *display: inline;\\n      zoom: 1;\\n      max-width: 17em;\\n      _width: 17em;\\n  }\\n      </style>\\n  <script>\\n    document.write(\\'<img src=\"//geo.yahoo.com/b?s=1197757129&t=\\'+new Date().getTime()+\\'&src=aws&err_url=\\'+encodeURIComponent(document.URL)+\\'&err=%<pssc>&test=\\'+encodeURIComponent(\\'%<{Bucket}cqh[:200]>\\')+\\'\" width=\"0px\" height=\"0px\"/>\\');var beacon = new Image();beacon.src=\"//bcn.fp.yahoo.com/p?s=1197757129&t=\"+ne..."
          ]
        }
      ]
    },
    {
      "cell_type": "markdown",
      "source": [
        "Utilizing the function:\n",
        "\n",
        "We can now output the price of the option by using the function created before. \n",
        "\n",
        "For this example, use a call option on 'SPY' with expiry '12-18-2020' and a strike price of '370'\n",
        "\n",
        "If all done correctly should get a value of ~16.169. \n",
        "*Try with expiry date of 2020 instead of 2022 if an error or mismatch in values "
      ],
      "metadata": {
        "id": "IqthjW4mFS0j"
      }
    },
    {
      "cell_type": "markdown",
      "source": [
        "Newton Raphson's method of root finding is used to calculate implied volatility\n",
        "\n",
        "$x_{n+1} = x_n - \\frac{f(x_n)}{f'(x_n)}$\n",
        "\n",
        "$f'(x_n)≈\\frac{f(x_n + ϵ)-f(x_n - ϵ)}{2ϵ}$"
      ],
      "metadata": {
        "id": "kLpmk8uqx8Rr"
      }
    },
    {
      "cell_type": "code",
      "source": [
        "def cal_vol(S, K, T, r, V_temp, type): #V = value of put/call, type = 0 or 1 depending if put/call\n",
        "\n",
        "  sig = 0.5 #Initial Guess for Volatility\n",
        "  ep = 0.001 #finite difference approx\n",
        "  tol = 1000\n",
        "\n",
        "  while tol < 0.0001:\n",
        "    if (V == 1):\n",
        "\n",
        "      V_temp  = bs_call(S, K, T, r, sig)\n",
        "      derivative = (bs_call(S, K, T, r, sig+ep) - bs_call(S, K, T, r, sig-ep))/(2*ep)\n",
        "      sig_temp = sig\n",
        "      sig = sig - V_temp/derivative\n",
        "  \n",
        "    else: \n",
        "\n",
        "      V_temp  = bs_put(S, K, T, r, sig)\n",
        "      derivative = (bs_put(S, K, T, r, sig+ep) - bs_put(S, K, T, r, sig-ep))/(2*ep)\n",
        "      sig_temp = sig\n",
        "      sig = sig - V_temp/derivative\n",
        "\n",
        "    tol = (sig_temp - sig)\n",
        "\n",
        "  return sig\n"
      ],
      "metadata": {
        "id": "TsGDJpVqvZ6s"
      },
      "execution_count": null,
      "outputs": []
    }
  ]
}